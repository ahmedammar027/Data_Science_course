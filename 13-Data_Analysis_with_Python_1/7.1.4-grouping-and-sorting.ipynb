{
 "cells": [
  {
   "cell_type": "markdown",
   "id": "80ba977a",
   "metadata": {
    "papermill": {
     "duration": 0.017473,
     "end_time": "2022-02-08T16:47:58.719091",
     "exception": false,
     "start_time": "2022-02-08T16:47:58.701618",
     "status": "completed"
    },
    "tags": []
   },
   "source": [
    "# Introduction\n",
    "\n",
    "Maps allow us to transform data in a DataFrame or Series one value at a time for an entire column. However, often we want to group our data, and then do something specific to the group the data is in. \n",
    "\n",
    "As you'll learn, we do this with the `groupby()` operation.  We'll also cover some additional topics, such as more complex ways to index your DataFrames, along with how to sort your data.\n",
    "\n",
    "\n",
    "# Groupwise analysis\n",
    "\n",
    "One function we've been using heavily thus far is the `value_counts()` function. We can replicate what `value_counts()` does by doing the following:"
   ]
  },
  {
   "cell_type": "code",
   "execution_count": 3,
   "id": "8c6786de",
   "metadata": {
    "_kg_hide-input": true,
    "papermill": {
     "duration": 1.718353,
     "end_time": "2022-02-08T16:48:00.453714",
     "exception": false,
     "start_time": "2022-02-08T16:47:58.735361",
     "status": "completed"
    },
    "tags": []
   },
   "outputs": [
    {
     "name": "stderr",
     "output_type": "stream",
     "text": [
      "<>:2: SyntaxWarning: invalid escape sequence '\\w'\n",
      "<>:2: SyntaxWarning: invalid escape sequence '\\w'\n",
      "C:\\Users\\ahmed\\AppData\\Local\\Temp\\ipykernel_33332\\3116021394.py:2: SyntaxWarning: invalid escape sequence '\\w'\n",
      "  reviews = pd.read_csv(\"data\\winemag-data-130k-v2.csv\", index_col=0)\n"
     ]
    }
   ],
   "source": [
    "import pandas as pd\n",
    "reviews = pd.read_csv(\"data\\winemag-data-130k-v2.csv\", index_col=0)\n",
    "pd.set_option(\"display.max_rows\", 5)\n"
   ]
  },
  {
   "cell_type": "code",
   "execution_count": 4,
   "id": "77453fea",
   "metadata": {
    "papermill": {
     "duration": 0.035616,
     "end_time": "2022-02-08T16:48:00.505882",
     "exception": false,
     "start_time": "2022-02-08T16:48:00.470266",
     "status": "completed"
    },
    "tags": []
   },
   "outputs": [
    {
     "data": {
      "text/plain": [
       "points\n",
       "80     397\n",
       "81     692\n",
       "      ... \n",
       "99      33\n",
       "100     19\n",
       "Name: points, Length: 21, dtype: int64"
      ]
     },
     "execution_count": 4,
     "metadata": {},
     "output_type": "execute_result"
    }
   ],
   "source": [
    "reviews.groupby('points').points.count()"
   ]
  },
  {
   "cell_type": "markdown",
   "id": "ce0fd17c",
   "metadata": {
    "papermill": {
     "duration": 0.018592,
     "end_time": "2022-02-08T16:48:00.542218",
     "exception": false,
     "start_time": "2022-02-08T16:48:00.523626",
     "status": "completed"
    },
    "tags": []
   },
   "source": [
    "`groupby()` created a group of reviews which allotted the same point values to the given wines. Then, for each of these groups, we grabbed the `points()` column and counted how many times it appeared.  `value_counts()` is just a shortcut to this `groupby()` operation. \n",
    "\n",
    "We can use any of the summary functions we've used before with this data. For example, to get the cheapest wine in each point value category, we can do the following:"
   ]
  },
  {
   "cell_type": "code",
   "execution_count": 9,
   "id": "88a4c666",
   "metadata": {
    "papermill": {
     "duration": 0.033529,
     "end_time": "2022-02-08T16:48:00.592752",
     "exception": false,
     "start_time": "2022-02-08T16:48:00.559223",
     "status": "completed"
    },
    "tags": []
   },
   "outputs": [
    {
     "data": {
      "text/plain": [
       "points\n",
       "80      5.0\n",
       "81      5.0\n",
       "       ... \n",
       "99     44.0\n",
       "100    80.0\n",
       "Name: price, Length: 21, dtype: float64"
      ]
     },
     "execution_count": 9,
     "metadata": {},
     "output_type": "execute_result"
    }
   ],
   "source": [
    "# Try it yourself\n",
    "reviews.groupby('points').price.min()\n"
   ]
  },
  {
   "cell_type": "markdown",
   "id": "1f8e9e2b",
   "metadata": {
    "papermill": {
     "duration": 0.02312,
     "end_time": "2022-02-08T16:48:03.003878",
     "exception": false,
     "start_time": "2022-02-08T16:48:02.980758",
     "status": "completed"
    },
    "tags": []
   },
   "source": [
    "# Your turn\n",
    "\n"
   ]
  }
 ],
 "metadata": {
  "kernelspec": {
   "display_name": "base",
   "language": "python",
   "name": "python3"
  },
  "language_info": {
   "codemirror_mode": {
    "name": "ipython",
    "version": 3
   },
   "file_extension": ".py",
   "mimetype": "text/x-python",
   "name": "python",
   "nbconvert_exporter": "python",
   "pygments_lexer": "ipython3",
   "version": "3.12.4"
  },
  "papermill": {
   "default_parameters": {},
   "duration": 15.514261,
   "end_time": "2022-02-08T16:48:03.886622",
   "environment_variables": {},
   "exception": null,
   "input_path": "__notebook__.ipynb",
   "output_path": "__notebook__.ipynb",
   "parameters": {},
   "start_time": "2022-02-08T16:47:48.372361",
   "version": "2.3.3"
  }
 },
 "nbformat": 4,
 "nbformat_minor": 5
}
