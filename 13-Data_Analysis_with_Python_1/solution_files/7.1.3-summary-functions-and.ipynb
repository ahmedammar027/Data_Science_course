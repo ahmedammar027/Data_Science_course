{
 "cells": [
  {
   "cell_type": "markdown",
   "id": "e24ecd91",
   "metadata": {
    "papermill": {
     "duration": 0.015491,
     "end_time": "2022-02-14T14:47:17.126788",
     "exception": false,
     "start_time": "2022-02-14T14:47:17.111297",
     "status": "completed"
    },
    "tags": []
   },
   "source": [
    "# Introduction\n",
    "\n",
    "In the last tutorial, we learned how to select relevant data out of a DataFrame or Series. Plucking the right data out of our data representation is critical to getting work done, as we demonstrated in the exercises.\n",
    "\n",
    "However, the data does not always come out of memory in the format we want it in right out of the bat. Sometimes we have to do some more work ourselves to reformat it for the task at hand.  This tutorial will cover different operations we can apply to our data to get the input \"just right\". \n",
    "\n",
    "We'll use the Wine Magazine data for demonstration."
   ]
  },
  {
   "cell_type": "code",
   "execution_count": 1,
   "id": "f8565cd0",
   "metadata": {
    "_kg_hide-input": true,
    "collapsed": true,
    "execution": {
     "iopub.execute_input": "2022-02-14T14:47:17.165668Z",
     "iopub.status.busy": "2022-02-14T14:47:17.164754Z",
     "iopub.status.idle": "2022-02-14T14:47:18.852427Z",
     "shell.execute_reply": "2022-02-14T14:47:18.851688Z"
    },
    "jupyter": {
     "outputs_hidden": true
    },
    "papermill": {
     "duration": 1.711365,
     "end_time": "2022-02-14T14:47:18.852597",
     "exception": false,
     "start_time": "2022-02-14T14:47:17.141232",
     "status": "completed"
    },
    "tags": []
   },
   "outputs": [],
   "source": [
    "import pandas as pd\n",
    "import numpy as np\n",
    "reviews = pd.read_csv(\"data\\winemag-data-130k-v2.csv\", index_col=0)"
   ]
  },
  {
   "cell_type": "code",
   "execution_count": null,
   "id": "738cb08d",
   "metadata": {
    "execution": {
     "iopub.execute_input": "2022-02-14T14:47:18.890775Z",
     "iopub.status.busy": "2022-02-14T14:47:18.889106Z",
     "iopub.status.idle": "2022-02-14T14:47:18.911652Z",
     "shell.execute_reply": "2022-02-14T14:47:18.912161Z"
    },
    "papermill": {
     "duration": 0.045152,
     "end_time": "2022-02-14T14:47:18.912341",
     "exception": false,
     "start_time": "2022-02-14T14:47:18.867189",
     "status": "completed"
    },
    "tags": []
   },
   "outputs": [],
   "source": [
    "reviews"
   ]
  },
  {
   "cell_type": "markdown",
   "id": "8e3d2e66",
   "metadata": {
    "papermill": {
     "duration": 0.015883,
     "end_time": "2022-02-14T14:47:18.945393",
     "exception": false,
     "start_time": "2022-02-14T14:47:18.929510",
     "status": "completed"
    },
    "tags": []
   },
   "source": [
    "# Summary functions\n",
    "\n",
    "Pandas provides many simple \"summary functions\" (not an official name) which restructure the data in some useful way. For example, consider the `describe()` method:"
   ]
  },
  {
   "cell_type": "code",
   "execution_count": null,
   "id": "5bb5ba70",
   "metadata": {},
   "outputs": [],
   "source": [
    "reviews.describe()"
   ]
  },
  {
   "cell_type": "code",
   "execution_count": null,
   "id": "befa8542",
   "metadata": {
    "execution": {
     "iopub.execute_input": "2022-02-14T14:47:18.983583Z",
     "iopub.status.busy": "2022-02-14T14:47:18.982939Z",
     "iopub.status.idle": "2022-02-14T14:47:18.995151Z",
     "shell.execute_reply": "2022-02-14T14:47:18.995659Z"
    },
    "papermill": {
     "duration": 0.034811,
     "end_time": "2022-02-14T14:47:18.995841",
     "exception": false,
     "start_time": "2022-02-14T14:47:18.961030",
     "status": "completed"
    },
    "tags": []
   },
   "outputs": [],
   "source": [
    "reviews.points.describe()"
   ]
  },
  {
   "cell_type": "markdown",
   "id": "66934e1d",
   "metadata": {
    "papermill": {
     "duration": 0.016318,
     "end_time": "2022-02-14T14:47:19.029391",
     "exception": false,
     "start_time": "2022-02-14T14:47:19.013073",
     "status": "completed"
    },
    "tags": []
   },
   "source": [
    "This method generates a high-level summary of the attributes of the given column. It is type-aware, meaning that its output changes based on the data type of the input. The output above only makes sense for numerical data; for string data here's what we get:"
   ]
  },
  {
   "cell_type": "code",
   "execution_count": null,
   "id": "ab65f623",
   "metadata": {
    "execution": {
     "iopub.execute_input": "2022-02-14T14:47:19.076060Z",
     "iopub.status.busy": "2022-02-14T14:47:19.067058Z",
     "iopub.status.idle": "2022-02-14T14:47:19.089702Z",
     "shell.execute_reply": "2022-02-14T14:47:19.090214Z"
    },
    "papermill": {
     "duration": 0.043808,
     "end_time": "2022-02-14T14:47:19.090392",
     "exception": false,
     "start_time": "2022-02-14T14:47:19.046584",
     "status": "completed"
    },
    "tags": []
   },
   "outputs": [],
   "source": [
    "reviews.taster_name.describe()"
   ]
  },
  {
   "cell_type": "markdown",
   "id": "43572af6",
   "metadata": {},
   "source": [
    "To get the Summary Statistics for all object columns (non-numeric) we can use the `include` parameter of the `describe()` method as follows:"
   ]
  },
  {
   "cell_type": "code",
   "execution_count": null,
   "id": "fd4ad52c",
   "metadata": {},
   "outputs": [],
   "source": [
    "reviews.describe(include=['O'])"
   ]
  },
  {
   "cell_type": "markdown",
   "id": "00e5c72d",
   "metadata": {
    "papermill": {
     "duration": 0.015583,
     "end_time": "2022-02-14T14:47:19.122469",
     "exception": false,
     "start_time": "2022-02-14T14:47:19.106886",
     "status": "completed"
    },
    "tags": []
   },
   "source": [
    "If you want to get some particular simple summary statistic about a column in a DataFrame or a Series, there is usually a helpful pandas function that makes it happen. \n",
    "\n",
    "For example, to see the mean of the points allotted (e.g. how well an averagely rated wine does), we can use the `mean()` function:"
   ]
  },
  {
   "cell_type": "code",
   "execution_count": null,
   "id": "2441653c",
   "metadata": {
    "execution": {
     "iopub.execute_input": "2022-02-14T14:47:19.159183Z",
     "iopub.status.busy": "2022-02-14T14:47:19.158409Z",
     "iopub.status.idle": "2022-02-14T14:47:19.161482Z",
     "shell.execute_reply": "2022-02-14T14:47:19.161935Z"
    },
    "papermill": {
     "duration": 0.024317,
     "end_time": "2022-02-14T14:47:19.162111",
     "exception": false,
     "start_time": "2022-02-14T14:47:19.137794",
     "status": "completed"
    },
    "tags": []
   },
   "outputs": [],
   "source": [
    "# Try it yourself\n",
    "# Done by students\n",
    "reviews.points.mean()"
   ]
  },
  {
   "cell_type": "markdown",
   "id": "c11b8383",
   "metadata": {
    "papermill": {
     "duration": 0.015815,
     "end_time": "2022-02-14T14:47:19.194310",
     "exception": false,
     "start_time": "2022-02-14T14:47:19.178495",
     "status": "completed"
    },
    "tags": []
   },
   "source": [
    "To see a list of unique values we can use the `unique()` function:"
   ]
  },
  {
   "cell_type": "code",
   "execution_count": null,
   "id": "34fda53d",
   "metadata": {
    "execution": {
     "iopub.execute_input": "2022-02-14T14:47:19.242184Z",
     "iopub.status.busy": "2022-02-14T14:47:19.241183Z",
     "iopub.status.idle": "2022-02-14T14:47:19.244509Z",
     "shell.execute_reply": "2022-02-14T14:47:19.245047Z"
    },
    "papermill": {
     "duration": 0.035176,
     "end_time": "2022-02-14T14:47:19.245279",
     "exception": false,
     "start_time": "2022-02-14T14:47:19.210103",
     "status": "completed"
    },
    "tags": []
   },
   "outputs": [],
   "source": [
    "# Try it yourself\n",
    "# Done by students\n",
    "reviews.taster_name.unique()"
   ]
  },
  {
   "cell_type": "markdown",
   "id": "2b39aca6",
   "metadata": {},
   "source": [
    "To count the unique values we can use the `nunique()` function:"
   ]
  },
  {
   "cell_type": "code",
   "execution_count": null,
   "id": "1a568e0d",
   "metadata": {},
   "outputs": [],
   "source": [
    "reviews.taster_name.nunique()"
   ]
  },
  {
   "cell_type": "markdown",
   "id": "7db91edc",
   "metadata": {
    "papermill": {
     "duration": 0.016857,
     "end_time": "2022-02-14T14:47:19.279424",
     "exception": false,
     "start_time": "2022-02-14T14:47:19.262567",
     "status": "completed"
    },
    "tags": []
   },
   "source": [
    "To see a list of unique values _and_ how often they occur in the dataset, we can use the `value_counts()` method:"
   ]
  },
  {
   "cell_type": "code",
   "execution_count": null,
   "id": "2a43cac4",
   "metadata": {
    "execution": {
     "iopub.execute_input": "2022-02-14T14:47:19.318014Z",
     "iopub.status.busy": "2022-02-14T14:47:19.317127Z",
     "iopub.status.idle": "2022-02-14T14:47:19.332048Z",
     "shell.execute_reply": "2022-02-14T14:47:19.332460Z"
    },
    "papermill": {
     "duration": 0.035377,
     "end_time": "2022-02-14T14:47:19.332624",
     "exception": false,
     "start_time": "2022-02-14T14:47:19.297247",
     "status": "completed"
    },
    "tags": []
   },
   "outputs": [],
   "source": [
    "# Try it yourself\n",
    "# Done by students\n",
    "reviews.taster_name.value_counts()"
   ]
  },
  {
   "cell_type": "markdown",
   "id": "c834c22c",
   "metadata": {
    "papermill": {
     "duration": 0.018017,
     "end_time": "2022-02-14T14:47:31.835355",
     "exception": false,
     "start_time": "2022-02-14T14:47:31.817338",
     "status": "completed"
    },
    "tags": []
   },
   "source": [
    "Pandas provides many common mapping operations as built-ins. For example, here's a faster way of remeaning our points column:"
   ]
  },
  {
   "cell_type": "code",
   "execution_count": null,
   "id": "b4764c4f",
   "metadata": {
    "execution": {
     "iopub.execute_input": "2022-02-14T14:47:31.965237Z",
     "iopub.status.busy": "2022-02-14T14:47:31.964423Z",
     "iopub.status.idle": "2022-02-14T14:47:32.009164Z",
     "shell.execute_reply": "2022-02-14T14:47:32.009681Z"
    },
    "papermill": {
     "duration": 0.069146,
     "end_time": "2022-02-14T14:47:32.009852",
     "exception": false,
     "start_time": "2022-02-14T14:47:31.940706",
     "status": "completed"
    },
    "tags": []
   },
   "outputs": [],
   "source": [
    "reviews.country + \" - \" + reviews.region_1"
   ]
  },
  {
   "cell_type": "markdown",
   "id": "4140f688",
   "metadata": {},
   "source": [
    "These operators are faster than `map()` or `apply()` because they use speed ups built into pandas. All of the standard Python operators (>, <, ==, and so on) work in this manner.\n",
    "\n",
    "However, they are not as flexible as `map()` or `apply()`, which can do more advanced things, like applying conditional logic, which cannot be done with addition and subtraction alone."
   ]
  },
  {
   "cell_type": "markdown",
   "id": "58f6f084",
   "metadata": {},
   "source": [
    "# Your turn"
   ]
  }
 ],
 "metadata": {
  "kernelspec": {
   "display_name": "depi_env",
   "language": "python",
   "name": "python3"
  },
  "language_info": {
   "codemirror_mode": {
    "name": "ipython",
    "version": 3
   },
   "file_extension": ".py",
   "mimetype": "text/x-python",
   "name": "python",
   "nbconvert_exporter": "python",
   "pygments_lexer": "ipython3",
   "version": "3.10.16"
  },
  "papermill": {
   "default_parameters": {},
   "duration": 24.47704,
   "end_time": "2022-02-14T14:47:32.716849",
   "environment_variables": {},
   "exception": null,
   "input_path": "__notebook__.ipynb",
   "output_path": "__notebook__.ipynb",
   "parameters": {},
   "start_time": "2022-02-14T14:47:08.239809",
   "version": "2.3.3"
  }
 },
 "nbformat": 4,
 "nbformat_minor": 5
}
