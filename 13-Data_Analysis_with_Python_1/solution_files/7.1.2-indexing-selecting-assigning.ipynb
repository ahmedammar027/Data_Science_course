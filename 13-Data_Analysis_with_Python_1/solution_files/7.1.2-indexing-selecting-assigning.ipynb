{
 "cells": [
  {
   "cell_type": "markdown",
   "id": "e271de74",
   "metadata": {
    "papermill": {
     "duration": 0.024677,
     "end_time": "2022-02-08T16:40:29.382610",
     "exception": false,
     "start_time": "2022-02-08T16:40:29.357933",
     "status": "completed"
    },
    "tags": []
   },
   "source": [
    "# Introduction\n",
    "\n",
    "Selecting specific values of a pandas DataFrame or Series to work on is an implicit step in almost any data operation you'll run, so one of the first things you need to learn in working with data in Python is how to go about selecting the data points relevant to you quickly and effectively."
   ]
  },
  {
   "cell_type": "code",
   "execution_count": 1,
   "id": "80c70990",
   "metadata": {
    "_kg_hide-input": true,
    "collapsed": true,
    "execution": {
     "iopub.execute_input": "2022-02-08T16:40:29.444358Z",
     "iopub.status.busy": "2022-02-08T16:40:29.440320Z",
     "iopub.status.idle": "2022-02-08T16:40:31.760747Z",
     "shell.execute_reply": "2022-02-08T16:40:31.759986Z"
    },
    "jupyter": {
     "outputs_hidden": true
    },
    "papermill": {
     "duration": 2.353514,
     "end_time": "2022-02-08T16:40:31.760942",
     "exception": false,
     "start_time": "2022-02-08T16:40:29.407428",
     "status": "completed"
    },
    "tags": []
   },
   "outputs": [],
   "source": [
    "import pandas as pd\n",
    "reviews = pd.read_csv(\"data\\winemag-data-130k-v2.csv\", index_col=0)"
   ]
  },
  {
   "cell_type": "markdown",
   "id": "068a8188",
   "metadata": {
    "papermill": {
     "duration": 0.036061,
     "end_time": "2022-02-08T16:40:31.904547",
     "exception": false,
     "start_time": "2022-02-08T16:40:31.868486",
     "status": "completed"
    },
    "tags": []
   },
   "source": [
    "# Native accessors\n",
    "\n",
    "Native Python objects provide  good ways of indexing data. Pandas carries all of these over, which helps make it easy to start with.\n",
    "\n",
    "Consider this DataFrame:"
   ]
  },
  {
   "cell_type": "code",
   "execution_count": null,
   "id": "8d5a8b66",
   "metadata": {
    "collapsed": true,
    "execution": {
     "iopub.execute_input": "2022-02-08T16:40:31.985376Z",
     "iopub.status.busy": "2022-02-08T16:40:31.984673Z",
     "iopub.status.idle": "2022-02-08T16:40:32.008693Z",
     "shell.execute_reply": "2022-02-08T16:40:32.009274Z"
    },
    "jupyter": {
     "outputs_hidden": true
    },
    "papermill": {
     "duration": 0.067911,
     "end_time": "2022-02-08T16:40:32.009468",
     "exception": false,
     "start_time": "2022-02-08T16:40:31.941557",
     "status": "completed"
    },
    "tags": []
   },
   "outputs": [],
   "source": [
    "reviews"
   ]
  },
  {
   "cell_type": "markdown",
   "id": "362a7f1b",
   "metadata": {
    "papermill": {
     "duration": 0.035876,
     "end_time": "2022-02-08T16:40:32.084488",
     "exception": false,
     "start_time": "2022-02-08T16:40:32.048612",
     "status": "completed"
    },
    "tags": []
   },
   "source": [
    "In Python, we can access the property of an object by accessing it as an attribute. A `book` object, for example, might have a `title` property, which we can access by calling `book.title`. Columns in a pandas DataFrame work in much the same way. \n",
    "\n",
    "Hence to access the `country` property of `reviews` we can use:"
   ]
  },
  {
   "cell_type": "code",
   "execution_count": null,
   "id": "e09fd6b3",
   "metadata": {
    "collapsed": true,
    "execution": {
     "iopub.execute_input": "2022-02-08T16:40:32.166558Z",
     "iopub.status.busy": "2022-02-08T16:40:32.165917Z",
     "iopub.status.idle": "2022-02-08T16:40:32.168352Z",
     "shell.execute_reply": "2022-02-08T16:40:32.168905Z"
    },
    "jupyter": {
     "outputs_hidden": true
    },
    "papermill": {
     "duration": 0.048525,
     "end_time": "2022-02-08T16:40:32.169071",
     "exception": false,
     "start_time": "2022-02-08T16:40:32.120546",
     "status": "completed"
    },
    "tags": []
   },
   "outputs": [],
   "source": [
    "# Try accessing the \"country\" property of \"reviews\" dataframe and check for the output data type.\n",
    "# Done by students\n",
    "reviews.country"
   ]
  },
  {
   "cell_type": "markdown",
   "id": "3fa00c40",
   "metadata": {
    "papermill": {
     "duration": 0.037444,
     "end_time": "2022-02-08T16:40:32.243651",
     "exception": false,
     "start_time": "2022-02-08T16:40:32.206207",
     "status": "completed"
    },
    "tags": []
   },
   "source": [
    "If we have a Python dictionary, we can access its values using the indexing (`[]`) operator. We can do the same with columns in a DataFrame:"
   ]
  },
  {
   "cell_type": "code",
   "execution_count": null,
   "id": "e6fb8e69",
   "metadata": {
    "collapsed": true,
    "execution": {
     "iopub.execute_input": "2022-02-08T16:40:32.323370Z",
     "iopub.status.busy": "2022-02-08T16:40:32.322703Z",
     "iopub.status.idle": "2022-02-08T16:40:32.330546Z",
     "shell.execute_reply": "2022-02-08T16:40:32.331150Z"
    },
    "jupyter": {
     "outputs_hidden": true
    },
    "papermill": {
     "duration": 0.049159,
     "end_time": "2022-02-08T16:40:32.331336",
     "exception": false,
     "start_time": "2022-02-08T16:40:32.282177",
     "status": "completed"
    },
    "tags": []
   },
   "outputs": [],
   "source": [
    "reviews['country']"
   ]
  },
  {
   "cell_type": "markdown",
   "id": "398f5922",
   "metadata": {
    "papermill": {
     "duration": 0.038221,
     "end_time": "2022-02-08T16:40:32.407596",
     "exception": false,
     "start_time": "2022-02-08T16:40:32.369375",
     "status": "completed"
    },
    "tags": []
   },
   "source": [
    "These are the two ways of selecting a specific Series out of a DataFrame. Neither of them is more or less syntactically valid than the other, but the indexing operator `[]` does have the advantage that it can handle column names with reserved characters in them (e.g. if we had a `country providence` column, `reviews.country providence` wouldn't work).\n",
    "\n",
    "Doesn't a pandas Series look kind of like a fancy dictionary? It pretty much is, so it's no surprise that, to drill down to a single specific value, we need only use the indexing operator `[]` once more:"
   ]
  },
  {
   "cell_type": "code",
   "execution_count": null,
   "id": "1e42bc9d",
   "metadata": {
    "collapsed": true,
    "execution": {
     "iopub.execute_input": "2022-02-08T16:40:32.490346Z",
     "iopub.status.busy": "2022-02-08T16:40:32.489649Z",
     "iopub.status.idle": "2022-02-08T16:40:32.495731Z",
     "shell.execute_reply": "2022-02-08T16:40:32.496291Z"
    },
    "jupyter": {
     "outputs_hidden": true
    },
    "papermill": {
     "duration": 0.050185,
     "end_time": "2022-02-08T16:40:32.496476",
     "exception": false,
     "start_time": "2022-02-08T16:40:32.446291",
     "status": "completed"
    },
    "tags": []
   },
   "outputs": [],
   "source": [
    "reviews['country'][0]"
   ]
  },
  {
   "cell_type": "markdown",
   "id": "4ed8dcab",
   "metadata": {
    "papermill": {
     "duration": 0.037766,
     "end_time": "2022-02-08T16:40:32.573373",
     "exception": false,
     "start_time": "2022-02-08T16:40:32.535607",
     "status": "completed"
    },
    "tags": []
   },
   "source": [
    "# Indexing in pandas\n",
    "\n",
    "The indexing operator and attribute selection are nice because they work just like they do in the rest of the Python ecosystem. As a novice, this makes them easy to pick up and use. However, pandas has its own accessor operators, `loc` and `iloc`. For more advanced operations, these are the ones you're supposed to be using.\n",
    "\n",
    "### Index-based selection\n",
    "\n",
    "Pandas indexing works in one of two paradigms. The first is **index-based selection**: selecting data based on its numerical position in the data. `iloc` follows this paradigm.\n",
    "\n",
    "To select the first row of data in a DataFrame, we may use the following:"
   ]
  },
  {
   "cell_type": "code",
   "execution_count": null,
   "id": "21b2ece4",
   "metadata": {
    "collapsed": true,
    "execution": {
     "iopub.execute_input": "2022-02-08T16:40:32.653830Z",
     "iopub.status.busy": "2022-02-08T16:40:32.653147Z",
     "iopub.status.idle": "2022-02-08T16:40:32.660408Z",
     "shell.execute_reply": "2022-02-08T16:40:32.661011Z"
    },
    "jupyter": {
     "outputs_hidden": true
    },
    "papermill": {
     "duration": 0.048651,
     "end_time": "2022-02-08T16:40:32.661175",
     "exception": false,
     "start_time": "2022-02-08T16:40:32.612524",
     "status": "completed"
    },
    "tags": []
   },
   "outputs": [],
   "source": [
    "reviews.iloc[0]"
   ]
  },
  {
   "cell_type": "markdown",
   "id": "c7d22a4c",
   "metadata": {
    "papermill": {
     "duration": 0.038476,
     "end_time": "2022-02-08T16:40:32.738634",
     "exception": false,
     "start_time": "2022-02-08T16:40:32.700158",
     "status": "completed"
    },
    "tags": []
   },
   "source": [
    "Both `loc` and `iloc` are row-first, column-second. This is the opposite of what we do in native Python, which is column-first, row-second.\n",
    "\n",
    "This means that it's marginally easier to retrieve rows, and marginally harder to get retrieve columns. To get a column with `iloc`, we can do the following:"
   ]
  },
  {
   "cell_type": "code",
   "execution_count": null,
   "id": "20c0da33",
   "metadata": {
    "collapsed": true,
    "execution": {
     "iopub.execute_input": "2022-02-08T16:40:32.823645Z",
     "iopub.status.busy": "2022-02-08T16:40:32.823015Z",
     "iopub.status.idle": "2022-02-08T16:40:32.826596Z",
     "shell.execute_reply": "2022-02-08T16:40:32.826000Z"
    },
    "jupyter": {
     "outputs_hidden": true
    },
    "papermill": {
     "duration": 0.049559,
     "end_time": "2022-02-08T16:40:32.826732",
     "exception": false,
     "start_time": "2022-02-08T16:40:32.777173",
     "status": "completed"
    },
    "tags": []
   },
   "outputs": [],
   "source": [
    "reviews.iloc[:, 0]"
   ]
  },
  {
   "cell_type": "markdown",
   "id": "83e29d0d",
   "metadata": {
    "papermill": {
     "duration": 0.038855,
     "end_time": "2022-02-08T16:40:32.904484",
     "exception": false,
     "start_time": "2022-02-08T16:40:32.865629",
     "status": "completed"
    },
    "tags": []
   },
   "source": [
    "On its own, the `:` operator, which also comes from native Python, means \"everything\". When combined with other selectors, however, it can be used to indicate a range of values. For example, to select the `country` column from just the first, second, and third row, we would do:"
   ]
  },
  {
   "cell_type": "code",
   "execution_count": null,
   "id": "4723ee7d",
   "metadata": {
    "collapsed": true,
    "execution": {
     "iopub.execute_input": "2022-02-08T16:40:32.986244Z",
     "iopub.status.busy": "2022-02-08T16:40:32.985564Z",
     "iopub.status.idle": "2022-02-08T16:40:32.991034Z",
     "shell.execute_reply": "2022-02-08T16:40:32.991574Z"
    },
    "jupyter": {
     "outputs_hidden": true
    },
    "papermill": {
     "duration": 0.048099,
     "end_time": "2022-02-08T16:40:32.991750",
     "exception": false,
     "start_time": "2022-02-08T16:40:32.943651",
     "status": "completed"
    },
    "tags": []
   },
   "outputs": [],
   "source": [
    "reviews.iloc[:3, 0]"
   ]
  },
  {
   "cell_type": "markdown",
   "id": "7008cc32",
   "metadata": {
    "papermill": {
     "duration": 0.039698,
     "end_time": "2022-02-08T16:40:33.071967",
     "exception": false,
     "start_time": "2022-02-08T16:40:33.032269",
     "status": "completed"
    },
    "tags": []
   },
   "source": [
    "Or, to select just the second and third entries, we would do:"
   ]
  },
  {
   "cell_type": "code",
   "execution_count": null,
   "id": "1984903c",
   "metadata": {
    "execution": {
     "iopub.execute_input": "2022-02-08T16:40:33.154702Z",
     "iopub.status.busy": "2022-02-08T16:40:33.154060Z",
     "iopub.status.idle": "2022-02-08T16:40:33.159968Z",
     "shell.execute_reply": "2022-02-08T16:40:33.160630Z"
    },
    "papermill": {
     "duration": 0.049084,
     "end_time": "2022-02-08T16:40:33.160808",
     "exception": false,
     "start_time": "2022-02-08T16:40:33.111724",
     "status": "completed"
    },
    "tags": []
   },
   "outputs": [],
   "source": [
    "# Try it yourself\n",
    "# Done by students\n",
    "reviews.iloc[1:3, 0]"
   ]
  },
  {
   "cell_type": "markdown",
   "id": "d84d9a15",
   "metadata": {
    "papermill": {
     "duration": 0.040504,
     "end_time": "2022-02-08T16:40:33.241654",
     "exception": false,
     "start_time": "2022-02-08T16:40:33.201150",
     "status": "completed"
    },
    "tags": []
   },
   "source": [
    "It's also possible to pass a list:"
   ]
  },
  {
   "cell_type": "code",
   "execution_count": null,
   "id": "3b562ce2",
   "metadata": {
    "execution": {
     "iopub.execute_input": "2022-02-08T16:40:33.326995Z",
     "iopub.status.busy": "2022-02-08T16:40:33.326299Z",
     "iopub.status.idle": "2022-02-08T16:40:33.333076Z",
     "shell.execute_reply": "2022-02-08T16:40:33.332501Z"
    },
    "papermill": {
     "duration": 0.050547,
     "end_time": "2022-02-08T16:40:33.333216",
     "exception": false,
     "start_time": "2022-02-08T16:40:33.282669",
     "status": "completed"
    },
    "tags": []
   },
   "outputs": [],
   "source": [
    "reviews.iloc[[0, 1, 2], 0]"
   ]
  },
  {
   "cell_type": "markdown",
   "id": "42bcd0ef",
   "metadata": {
    "papermill": {
     "duration": 0.044057,
     "end_time": "2022-02-08T16:40:33.418717",
     "exception": false,
     "start_time": "2022-02-08T16:40:33.374660",
     "status": "completed"
    },
    "tags": []
   },
   "source": [
    "Finally, it's worth knowing that negative numbers can be used in selection. This will start counting forwards from the _end_ of the values. So for example here are the last five elements of the dataset."
   ]
  },
  {
   "cell_type": "code",
   "execution_count": null,
   "id": "0a489ec6",
   "metadata": {
    "execution": {
     "iopub.execute_input": "2022-02-08T16:40:33.521135Z",
     "iopub.status.busy": "2022-02-08T16:40:33.508155Z",
     "iopub.status.idle": "2022-02-08T16:40:33.526535Z",
     "shell.execute_reply": "2022-02-08T16:40:33.527077Z"
    },
    "papermill": {
     "duration": 0.064583,
     "end_time": "2022-02-08T16:40:33.527249",
     "exception": false,
     "start_time": "2022-02-08T16:40:33.462666",
     "status": "completed"
    },
    "tags": []
   },
   "outputs": [],
   "source": [
    "# Try it yourself\n",
    "# Done by students\n",
    "reviews.iloc[-5:]"
   ]
  },
  {
   "cell_type": "markdown",
   "id": "dfac69e9",
   "metadata": {
    "papermill": {
     "duration": 0.043528,
     "end_time": "2022-02-08T16:40:33.613861",
     "exception": false,
     "start_time": "2022-02-08T16:40:33.570333",
     "status": "completed"
    },
    "tags": []
   },
   "source": [
    "### Label-based selection\n",
    "\n",
    "The second paradigm for attribute selection is the one followed by the `loc` operator: **label-based selection**. In this paradigm, it's the data index value, not its position, which matters.\n",
    "\n",
    "For example, to get the first entry in `reviews`, we would now do the following:"
   ]
  },
  {
   "cell_type": "code",
   "execution_count": null,
   "id": "2e935edb",
   "metadata": {
    "execution": {
     "iopub.execute_input": "2022-02-08T16:40:33.702923Z",
     "iopub.status.busy": "2022-02-08T16:40:33.700387Z",
     "iopub.status.idle": "2022-02-08T16:40:33.704846Z",
     "shell.execute_reply": "2022-02-08T16:40:33.705376Z"
    },
    "papermill": {
     "duration": 0.049579,
     "end_time": "2022-02-08T16:40:33.705557",
     "exception": false,
     "start_time": "2022-02-08T16:40:33.655978",
     "status": "completed"
    },
    "tags": []
   },
   "outputs": [],
   "source": [
    "reviews.loc[0, 'country']"
   ]
  },
  {
   "cell_type": "markdown",
   "id": "7e06c4a2",
   "metadata": {
    "papermill": {
     "duration": 0.041957,
     "end_time": "2022-02-08T16:40:33.791643",
     "exception": false,
     "start_time": "2022-02-08T16:40:33.749686",
     "status": "completed"
    },
    "tags": []
   },
   "source": [
    "`iloc` is conceptually simpler than `loc` because it ignores the dataset's indices. When we use `iloc` we treat the dataset like a big matrix (a list of lists), one that we have to index into by position. `loc`, by contrast, uses the information in the indices to do its work. Since your dataset usually has meaningful indices, it's usually easier to do things using `loc` instead. For example, here's one operation that's much easier using `loc`:"
   ]
  },
  {
   "cell_type": "code",
   "execution_count": null,
   "id": "38cd11f3",
   "metadata": {
    "execution": {
     "iopub.execute_input": "2022-02-08T16:40:33.880430Z",
     "iopub.status.busy": "2022-02-08T16:40:33.879842Z",
     "iopub.status.idle": "2022-02-08T16:40:33.895762Z",
     "shell.execute_reply": "2022-02-08T16:40:33.896312Z"
    },
    "papermill": {
     "duration": 0.061216,
     "end_time": "2022-02-08T16:40:33.896489",
     "exception": false,
     "start_time": "2022-02-08T16:40:33.835273",
     "status": "completed"
    },
    "tags": []
   },
   "outputs": [],
   "source": [
    "reviews.loc[:, ['taster_name', 'taster_twitter_handle', 'points']]"
   ]
  },
  {
   "cell_type": "markdown",
   "id": "775f1496",
   "metadata": {
    "papermill": {
     "duration": 0.044747,
     "end_time": "2022-02-08T16:40:33.984357",
     "exception": false,
     "start_time": "2022-02-08T16:40:33.939610",
     "status": "completed"
    },
    "tags": []
   },
   "source": [
    "### Choosing between `loc` and `iloc`\n",
    "\n",
    "When choosing or transitioning between `loc` and `iloc`, there is one \"gotcha\" worth keeping in mind, which is that the two methods use slightly different indexing schemes.\n",
    "\n",
    "`iloc` uses the Python stdlib indexing scheme, where the first element of the range is included and the last one excluded. So `0:10` will select entries `0,...,9`. `loc`, meanwhile, indexes inclusively. So `0:10` will select entries `0,...,10`.\n",
    "\n",
    "Why the change? Remember that loc can index any stdlib type: strings, for example. If we have a DataFrame with index values `Apples, ..., Potatoes, ...`, and we want to select \"all the alphabetical fruit choices between Apples and Potatoes\", then it's a lot more convenient to index `df.loc['Apples':'Potatoes']` than it is to index something like `df.loc['Apples', 'Potatoet']` (`t` coming after `s` in the alphabet).\n",
    "\n",
    "This is particularly confusing when the DataFrame index is a simple numerical list, e.g. `0,...,1000`. In this case `df.iloc[0:1000]` will return 1000 entries, while `df.loc[0:1000]` return 1001 of them! To get 1000 elements using `loc`, you will need to go one lower and ask for `df.loc[0:999]`. \n",
    "\n",
    "Otherwise, the semantics of using `loc` are the same as those for `iloc`."
   ]
  },
  {
   "cell_type": "markdown",
   "id": "299f674b",
   "metadata": {
    "papermill": {
     "duration": 0.043334,
     "end_time": "2022-02-08T16:40:34.073246",
     "exception": false,
     "start_time": "2022-02-08T16:40:34.029912",
     "status": "completed"
    },
    "tags": []
   },
   "source": [
    "# Manipulating the index\n",
    "\n",
    "Label-based selection derives its power from the labels in the index. Critically, the index we use is not immutable. We can manipulate the index in any way we see fit.\n",
    "\n",
    "The `set_index()` method can be used to do the job. Here is what happens when we `set_index` to the `title` field:"
   ]
  },
  {
   "cell_type": "code",
   "execution_count": null,
   "id": "a72b55cf",
   "metadata": {
    "execution": {
     "iopub.execute_input": "2022-02-08T16:40:34.166915Z",
     "iopub.status.busy": "2022-02-08T16:40:34.166189Z",
     "iopub.status.idle": "2022-02-08T16:40:34.202005Z",
     "shell.execute_reply": "2022-02-08T16:40:34.202521Z"
    },
    "papermill": {
     "duration": 0.083628,
     "end_time": "2022-02-08T16:40:34.202705",
     "exception": false,
     "start_time": "2022-02-08T16:40:34.119077",
     "status": "completed"
    },
    "tags": []
   },
   "outputs": [],
   "source": [
    "reviews.set_index(\"title\")"
   ]
  },
  {
   "cell_type": "markdown",
   "id": "012742c2",
   "metadata": {
    "papermill": {
     "duration": 0.047082,
     "end_time": "2022-02-08T16:40:34.296675",
     "exception": false,
     "start_time": "2022-02-08T16:40:34.249593",
     "status": "completed"
    },
    "tags": []
   },
   "source": [
    "This is useful if you can come up with an index for the dataset which is better than the current one."
   ]
  },
  {
   "cell_type": "markdown",
   "id": "13dc7b80",
   "metadata": {
    "papermill": {
     "duration": 0.046261,
     "end_time": "2022-02-08T16:40:34.391549",
     "exception": false,
     "start_time": "2022-02-08T16:40:34.345288",
     "status": "completed"
    },
    "tags": []
   },
   "source": [
    "# Conditional selection\n",
    "\n",
    "So far we've been indexing various strides of data, using structural properties of the DataFrame itself. To do *interesting* things with the data, however, we often need to ask questions based on conditions. \n",
    "\n",
    "For example, suppose that we're interested specifically in better-than-average wines produced in Italy.\n",
    "\n",
    "We can start by checking if each wine is Italian or not:"
   ]
  },
  {
   "cell_type": "code",
   "execution_count": null,
   "id": "ffb1946b",
   "metadata": {
    "execution": {
     "iopub.execute_input": "2022-02-08T16:40:34.497704Z",
     "iopub.status.busy": "2022-02-08T16:40:34.497027Z",
     "iopub.status.idle": "2022-02-08T16:40:34.501288Z",
     "shell.execute_reply": "2022-02-08T16:40:34.500691Z"
    },
    "papermill": {
     "duration": 0.06427,
     "end_time": "2022-02-08T16:40:34.501440",
     "exception": false,
     "start_time": "2022-02-08T16:40:34.437170",
     "status": "completed"
    },
    "tags": []
   },
   "outputs": [],
   "source": [
    "reviews.country == 'Italy'"
   ]
  },
  {
   "cell_type": "markdown",
   "id": "e67b311a",
   "metadata": {
    "papermill": {
     "duration": 0.047705,
     "end_time": "2022-02-08T16:40:34.597416",
     "exception": false,
     "start_time": "2022-02-08T16:40:34.549711",
     "status": "completed"
    },
    "tags": []
   },
   "source": [
    "This operation produced a Series of `True`/`False` booleans based on the `country` of each record.  This result can then be used inside of `loc` to select the relevant data:"
   ]
  },
  {
   "cell_type": "code",
   "execution_count": null,
   "id": "fd0b74a1",
   "metadata": {
    "execution": {
     "iopub.execute_input": "2022-02-08T16:40:34.697169Z",
     "iopub.status.busy": "2022-02-08T16:40:34.696538Z",
     "iopub.status.idle": "2022-02-08T16:40:34.745885Z",
     "shell.execute_reply": "2022-02-08T16:40:34.745268Z"
    },
    "papermill": {
     "duration": 0.09958,
     "end_time": "2022-02-08T16:40:34.746021",
     "exception": false,
     "start_time": "2022-02-08T16:40:34.646441",
     "status": "completed"
    },
    "tags": []
   },
   "outputs": [],
   "source": [
    "# Try it yourself\n",
    "# Done by students\n",
    "reviews.loc[reviews.country == 'Italy', :]"
   ]
  },
  {
   "cell_type": "markdown",
   "id": "9eec0dcf",
   "metadata": {
    "papermill": {
     "duration": 0.046668,
     "end_time": "2022-02-08T16:40:34.839215",
     "exception": false,
     "start_time": "2022-02-08T16:40:34.792547",
     "status": "completed"
    },
    "tags": []
   },
   "source": [
    "This DataFrame has ~20,000 rows. The original had ~130,000. That means that around 15% of wines originate from Italy.\n",
    "\n",
    "We also wanted to know which ones are better than average. Wines are reviewed on a 80-to-100 point scale, so this could mean wines that accrued at least 90 points.\n",
    "\n",
    "We can use the ampersand (`&`) to bring the two questions together:"
   ]
  },
  {
   "cell_type": "code",
   "execution_count": null,
   "id": "5712f03d",
   "metadata": {
    "execution": {
     "iopub.execute_input": "2022-02-08T16:40:34.955193Z",
     "iopub.status.busy": "2022-02-08T16:40:34.954543Z",
     "iopub.status.idle": "2022-02-08T16:40:34.977806Z",
     "shell.execute_reply": "2022-02-08T16:40:34.978513Z"
    },
    "papermill": {
     "duration": 0.09382,
     "end_time": "2022-02-08T16:40:34.978688",
     "exception": false,
     "start_time": "2022-02-08T16:40:34.884868",
     "status": "completed"
    },
    "tags": []
   },
   "outputs": [],
   "source": [
    "# Try it yourself\n",
    "# Done by students\n",
    "reviews.loc[(reviews.country == 'Italy') & (reviews.points >= 90)]"
   ]
  },
  {
   "cell_type": "markdown",
   "id": "8e3b7eb5",
   "metadata": {
    "papermill": {
     "duration": 0.046895,
     "end_time": "2022-02-08T16:40:35.073108",
     "exception": false,
     "start_time": "2022-02-08T16:40:35.026213",
     "status": "completed"
    },
    "tags": []
   },
   "source": [
    "Suppose we'll buy any wine that's made in Italy _or_ which is rated above average. For this we use a pipe (`|`):"
   ]
  },
  {
   "cell_type": "code",
   "execution_count": null,
   "id": "5f3c49c0",
   "metadata": {
    "papermill": {
     "duration": 0.10143,
     "end_time": "2022-02-08T16:40:35.222685",
     "exception": false,
     "start_time": "2022-02-08T16:40:35.121255",
     "status": "completed"
    },
    "tags": []
   },
   "outputs": [],
   "source": [
    "# Try it yourself\n",
    "# Done by students\n",
    "reviews.loc[(reviews.country == 'Italy') | (reviews.points >= 90)]"
   ]
  },
  {
   "cell_type": "markdown",
   "id": "5c4c4be6",
   "metadata": {
    "papermill": {
     "duration": 0.047219,
     "end_time": "2022-02-08T16:40:35.317317",
     "exception": false,
     "start_time": "2022-02-08T16:40:35.270098",
     "status": "completed"
    },
    "tags": []
   },
   "source": [
    "Pandas comes with a few built-in conditional selectors, two of which we will highlight here. \n",
    "\n",
    "The first is `isin`. `isin` is lets you select data whose value \"is in\" a list of values. For example, here's how we can use it to select wines only from Italy or France:"
   ]
  },
  {
   "cell_type": "code",
   "execution_count": null,
   "id": "a3906d24",
   "metadata": {
    "execution": {
     "iopub.execute_input": "2022-02-08T16:40:35.415555Z",
     "iopub.status.busy": "2022-02-08T16:40:35.414897Z",
     "iopub.status.idle": "2022-02-08T16:40:35.454233Z",
     "shell.execute_reply": "2022-02-08T16:40:35.454732Z"
    },
    "papermill": {
     "duration": 0.090611,
     "end_time": "2022-02-08T16:40:35.454933",
     "exception": false,
     "start_time": "2022-02-08T16:40:35.364322",
     "status": "completed"
    },
    "tags": []
   },
   "outputs": [],
   "source": [
    "reviews.loc[reviews.country.isin(['Italy', 'France'])]"
   ]
  },
  {
   "cell_type": "markdown",
   "id": "c5e9da22",
   "metadata": {
    "papermill": {
     "duration": 0.04718,
     "end_time": "2022-02-08T16:40:35.551524",
     "exception": false,
     "start_time": "2022-02-08T16:40:35.504344",
     "status": "completed"
    },
    "tags": []
   },
   "source": [
    "The second is `isnull` (and its companion `notnull`). These methods let you highlight values which are (or are not) empty (`NaN`). For example, to filter out wines lacking a price tag in the dataset, here's what we would do:"
   ]
  },
  {
   "cell_type": "code",
   "execution_count": null,
   "id": "552bbf59",
   "metadata": {
    "execution": {
     "iopub.execute_input": "2022-02-08T16:40:35.652036Z",
     "iopub.status.busy": "2022-02-08T16:40:35.651385Z",
     "iopub.status.idle": "2022-02-08T16:40:35.686622Z",
     "shell.execute_reply": "2022-02-08T16:40:35.687115Z"
    },
    "papermill": {
     "duration": 0.088237,
     "end_time": "2022-02-08T16:40:35.687276",
     "exception": false,
     "start_time": "2022-02-08T16:40:35.599039",
     "status": "completed"
    },
    "tags": []
   },
   "outputs": [],
   "source": [
    "reviews.loc[reviews.price.notnull()]"
   ]
  },
  {
   "cell_type": "markdown",
   "id": "3520c5fb",
   "metadata": {
    "papermill": {
     "duration": 0.048279,
     "end_time": "2022-02-08T16:40:35.784215",
     "exception": false,
     "start_time": "2022-02-08T16:40:35.735936",
     "status": "completed"
    },
    "tags": []
   },
   "source": [
    "# Assigning data\n",
    "\n",
    "Going the other way, assigning data to a DataFrame is easy. You can assign either a constant value:"
   ]
  },
  {
   "cell_type": "code",
   "execution_count": 21,
   "id": "ccba73f5",
   "metadata": {
    "tags": []
   },
   "outputs": [],
   "source": [
    "a = {\"age\":20}\n",
    "a['phone'] = 100"
   ]
  },
  {
   "cell_type": "code",
   "execution_count": null,
   "id": "3dda3cb8",
   "metadata": {
    "execution": {
     "iopub.execute_input": "2022-02-08T16:40:35.881867Z",
     "iopub.status.busy": "2022-02-08T16:40:35.881245Z",
     "iopub.status.idle": "2022-02-08T16:40:35.887810Z",
     "shell.execute_reply": "2022-02-08T16:40:35.888258Z"
    },
    "papermill": {
     "duration": 0.055977,
     "end_time": "2022-02-08T16:40:35.888398",
     "exception": false,
     "start_time": "2022-02-08T16:40:35.832421",
     "status": "completed"
    },
    "tags": []
   },
   "outputs": [],
   "source": [
    "reviews['critic'] = 'everyone'\n",
    "reviews['critic']"
   ]
  },
  {
   "cell_type": "markdown",
   "id": "8f4fbae5",
   "metadata": {
    "papermill": {
     "duration": 0.04903,
     "end_time": "2022-02-08T16:40:35.984367",
     "exception": false,
     "start_time": "2022-02-08T16:40:35.935337",
     "status": "completed"
    },
    "tags": []
   },
   "source": [
    "Or with an iterable of values:"
   ]
  },
  {
   "cell_type": "code",
   "execution_count": null,
   "id": "f7f8bb58",
   "metadata": {
    "collapsed": true,
    "execution": {
     "iopub.execute_input": "2022-02-08T16:40:36.085704Z",
     "iopub.status.busy": "2022-02-08T16:40:36.084863Z",
     "iopub.status.idle": "2022-02-08T16:40:36.091795Z",
     "shell.execute_reply": "2022-02-08T16:40:36.092295Z"
    },
    "jupyter": {
     "outputs_hidden": true
    },
    "papermill": {
     "duration": 0.058888,
     "end_time": "2022-02-08T16:40:36.092455",
     "exception": false,
     "start_time": "2022-02-08T16:40:36.033567",
     "status": "completed"
    },
    "tags": []
   },
   "outputs": [],
   "source": [
    "# Try it yourself\n",
    "# Done by students\n",
    "reviews['index_backwards'] = range(len(reviews), 0, -1)\n",
    "reviews['index_backwards']"
   ]
  },
  {
   "cell_type": "markdown",
   "id": "40d56852",
   "metadata": {
    "papermill": {
     "duration": 0.05168,
     "end_time": "2022-02-08T16:40:36.193260",
     "exception": false,
     "start_time": "2022-02-08T16:40:36.141580",
     "status": "completed"
    },
    "tags": []
   },
   "source": [
    "# Your turn\n"
   ]
  }
 ],
 "metadata": {
  "kernelspec": {
   "display_name": "depi_env",
   "language": "python",
   "name": "python3"
  },
  "language_info": {
   "codemirror_mode": {
    "name": "ipython",
    "version": 3
   },
   "file_extension": ".py",
   "mimetype": "text/x-python",
   "name": "python",
   "nbconvert_exporter": "python",
   "pygments_lexer": "ipython3",
   "version": "3.10.16"
  },
  "papermill": {
   "default_parameters": {},
   "duration": 19.759783,
   "end_time": "2022-02-08T16:40:37.265221",
   "environment_variables": {},
   "exception": null,
   "input_path": "__notebook__.ipynb",
   "output_path": "__notebook__.ipynb",
   "parameters": {},
   "start_time": "2022-02-08T16:40:17.505438",
   "version": "2.3.3"
  }
 },
 "nbformat": 4,
 "nbformat_minor": 5
}
