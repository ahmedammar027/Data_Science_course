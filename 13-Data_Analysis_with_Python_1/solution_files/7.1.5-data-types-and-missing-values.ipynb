{
 "cells": [
  {
   "cell_type": "markdown",
   "id": "56f3cab0",
   "metadata": {
    "papermill": {
     "duration": 0.013338,
     "end_time": "2022-02-08T16:48:42.905429",
     "exception": false,
     "start_time": "2022-02-08T16:48:42.892091",
     "status": "completed"
    },
    "tags": []
   },
   "source": [
    "# Introduction\n",
    "\n",
    "In this tutorial, you'll learn how to investigate data types within a DataFrame or Series.  You'll also learn how to find and replace entries.\n",
    "\n",
    "\n",
    "# Dtypes\n",
    "\n",
    "The data type for a column in a DataFrame or a Series is known as the **dtype**.\n",
    "\n",
    "You can use the `dtype` property to grab the type of a specific column.  For instance, we can get the dtype of the `price` column in the `reviews` DataFrame:"
   ]
  },
  {
   "cell_type": "code",
   "execution_count": 1,
   "id": "d38f1fea",
   "metadata": {
    "_kg_hide-input": true,
    "papermill": {
     "duration": 1.966121,
     "end_time": "2022-02-08T16:48:44.883553",
     "exception": false,
     "start_time": "2022-02-08T16:48:42.917432",
     "status": "completed"
    },
    "tags": []
   },
   "outputs": [],
   "source": [
    "import pandas as pd\n",
    "reviews = pd.read_csv(\"data\\winemag-data-130k-v2.csv\", index_col=0)"
   ]
  },
  {
   "cell_type": "code",
   "execution_count": null,
   "id": "960b6bac-2d4c-4300-bfb8-2761333b9666",
   "metadata": {
    "tags": []
   },
   "outputs": [],
   "source": [
    "reviews.head()"
   ]
  },
  {
   "cell_type": "code",
   "execution_count": null,
   "id": "77a71d60",
   "metadata": {
    "execution": {
     "iopub.execute_input": "2022-02-08T16:48:44.914538Z",
     "iopub.status.busy": "2022-02-08T16:48:44.913489Z",
     "iopub.status.idle": "2022-02-08T16:48:44.924901Z",
     "shell.execute_reply": "2022-02-08T16:48:44.925436Z"
    },
    "papermill": {
     "duration": 0.027791,
     "end_time": "2022-02-08T16:48:44.925619",
     "exception": false,
     "start_time": "2022-02-08T16:48:44.897828",
     "status": "completed"
    },
    "scrolled": true,
    "tags": []
   },
   "outputs": [],
   "source": [
    "reviews.price.dtype"
   ]
  },
  {
   "cell_type": "markdown",
   "id": "26407bca",
   "metadata": {
    "papermill": {
     "duration": 0.012363,
     "end_time": "2022-02-08T16:48:44.951040",
     "exception": false,
     "start_time": "2022-02-08T16:48:44.938677",
     "status": "completed"
    },
    "tags": []
   },
   "source": [
    "Alternatively, the `dtypes` property returns the `dtype` of _every_ column in the DataFrame:"
   ]
  },
  {
   "cell_type": "code",
   "execution_count": null,
   "id": "54b8fede",
   "metadata": {
    "execution": {
     "iopub.execute_input": "2022-02-08T16:48:44.980071Z",
     "iopub.status.busy": "2022-02-08T16:48:44.979061Z",
     "iopub.status.idle": "2022-02-08T16:48:44.987088Z",
     "shell.execute_reply": "2022-02-08T16:48:44.987676Z"
    },
    "papermill": {
     "duration": 0.024332,
     "end_time": "2022-02-08T16:48:44.987864",
     "exception": false,
     "start_time": "2022-02-08T16:48:44.963532",
     "status": "completed"
    },
    "tags": []
   },
   "outputs": [],
   "source": [
    "# Try it yourself\n",
    "# Done by students\n",
    "reviews.dtypes"
   ]
  },
  {
   "cell_type": "markdown",
   "id": "cc725ded",
   "metadata": {
    "papermill": {
     "duration": 0.013088,
     "end_time": "2022-02-08T16:48:45.014512",
     "exception": false,
     "start_time": "2022-02-08T16:48:45.001424",
     "status": "completed"
    },
    "tags": []
   },
   "source": [
    "Data types tell us something about how pandas is storing the data internally. `float64` means that it's using a 64-bit floating point number; `int64` means a similarly sized integer instead, and so on.\n",
    "\n",
    "One peculiarity to keep in mind (and on display very clearly here) is that columns consisting entirely of strings do not get their own type; they are instead given the `object` type.\n",
    "\n",
    "It's possible to convert a column of one type into another wherever such a conversion makes sense by using the `astype()` function. For example, we may transform the `points` column from its existing `int64` data type into a `float64` data type:"
   ]
  },
  {
   "cell_type": "code",
   "execution_count": null,
   "id": "29e4a9ef",
   "metadata": {
    "execution": {
     "iopub.execute_input": "2022-02-08T16:48:45.046546Z",
     "iopub.status.busy": "2022-02-08T16:48:45.045559Z",
     "iopub.status.idle": "2022-02-08T16:48:45.052333Z",
     "shell.execute_reply": "2022-02-08T16:48:45.052796Z"
    },
    "papermill": {
     "duration": 0.025338,
     "end_time": "2022-02-08T16:48:45.052972",
     "exception": false,
     "start_time": "2022-02-08T16:48:45.027634",
     "status": "completed"
    },
    "scrolled": true,
    "tags": []
   },
   "outputs": [],
   "source": [
    "reviews.points.astype('float64') # \"87\" is now 87.0"
   ]
  },
  {
   "cell_type": "markdown",
   "id": "3feb5505",
   "metadata": {},
   "source": [
    "But when we check for the `dtype` of the points columns it is still `int64`, why is that?"
   ]
  },
  {
   "cell_type": "code",
   "execution_count": null,
   "id": "01ed5d3d",
   "metadata": {},
   "outputs": [],
   "source": [
    "reviews.points.dtype"
   ]
  },
  {
   "cell_type": "code",
   "execution_count": null,
   "id": "b7e016e9",
   "metadata": {},
   "outputs": [],
   "source": [
    "reviews.points = reviews.points.astype('float64')\n",
    "reviews.points.dtype"
   ]
  },
  {
   "cell_type": "markdown",
   "id": "19efde7e",
   "metadata": {},
   "source": [
    "Now we have changed the datatype of \"Points\" column in the dataframe \"reviews\" from `int64` to `float64`."
   ]
  },
  {
   "cell_type": "markdown",
   "id": "b2934e4f",
   "metadata": {
    "papermill": {
     "duration": 0.012904,
     "end_time": "2022-02-08T16:48:45.079067",
     "exception": false,
     "start_time": "2022-02-08T16:48:45.066163",
     "status": "completed"
    },
    "tags": []
   },
   "source": [
    "A DataFrame or Series index has its own `dtype`, too:"
   ]
  },
  {
   "cell_type": "code",
   "execution_count": null,
   "id": "cc70ec82",
   "metadata": {
    "execution": {
     "iopub.execute_input": "2022-02-08T16:48:45.109484Z",
     "iopub.status.busy": "2022-02-08T16:48:45.108483Z",
     "iopub.status.idle": "2022-02-08T16:48:45.115479Z",
     "shell.execute_reply": "2022-02-08T16:48:45.114929Z"
    },
    "papermill": {
     "duration": 0.023432,
     "end_time": "2022-02-08T16:48:45.115625",
     "exception": false,
     "start_time": "2022-02-08T16:48:45.092193",
     "status": "completed"
    },
    "tags": []
   },
   "outputs": [],
   "source": [
    "reviews.index.dtype"
   ]
  },
  {
   "cell_type": "markdown",
   "id": "c0dc5a0d",
   "metadata": {},
   "source": [
    "String functions can be applied on `object` columns in a dataframe, review the `replace` string method in the following example:"
   ]
  },
  {
   "cell_type": "code",
   "execution_count": null,
   "id": "c9002563-ed87-4a07-bf8e-be225a7752eb",
   "metadata": {
    "tags": []
   },
   "outputs": [],
   "source": [
    "price = \"100$\"\n",
    "price = price.replace(\"$\",\"\")  #\"100\"\n",
    "prince = int(price)\n",
    "print(price) #100"
   ]
  },
  {
   "cell_type": "code",
   "execution_count": null,
   "id": "5766b36c",
   "metadata": {},
   "outputs": [],
   "source": [
    "reviews.head()"
   ]
  },
  {
   "cell_type": "markdown",
   "id": "70e8996a",
   "metadata": {},
   "source": [
    "By looking at the frist few rows of the dataframe we can note that `taster_twitter_handle` column always start with `@`, if we would like to remove the `@` for each entry in the `taster_twitter_handle` column, we can do it as follows:"
   ]
  },
  {
   "cell_type": "code",
   "execution_count": null,
   "id": "513429bb",
   "metadata": {},
   "outputs": [],
   "source": [
    "# Try it yourself\n",
    "# Done by students\n",
    "reviews.taster_twitter_handle = reviews.taster_twitter_handle.str.replace(\"@\", \"\")\n",
    "reviews.head()"
   ]
  },
  {
   "cell_type": "markdown",
   "id": "d09bb1f5",
   "metadata": {
    "papermill": {
     "duration": 0.013428,
     "end_time": "2022-02-08T16:48:45.142899",
     "exception": false,
     "start_time": "2022-02-08T16:48:45.129471",
     "status": "completed"
    },
    "tags": []
   },
   "source": [
    "Pandas also supports more exotic data types, such as categorical data and timeseries data. Because these data types are more rarely used, we will omit them until a much later section of this tutorial."
   ]
  },
  {
   "cell_type": "markdown",
   "id": "58df0e2b",
   "metadata": {
    "papermill": {
     "duration": 0.013249,
     "end_time": "2022-02-08T16:48:45.169869",
     "exception": false,
     "start_time": "2022-02-08T16:48:45.156620",
     "status": "completed"
    },
    "tags": []
   },
   "source": [
    "# Missing data\n",
    "\n",
    "Entries missing values are given the value `NaN`, short for \"Not a Number\". For technical reasons these `NaN` values are always of the `float64` dtype.\n",
    "\n",
    "Pandas provides some methods specific to missing data. To select `NaN` entries you can use `pd.isnull()` (or its companion `pd.notnull()`). This is meant to be used thusly:"
   ]
  },
  {
   "cell_type": "code",
   "execution_count": null,
   "id": "5073da05",
   "metadata": {
    "papermill": {
     "duration": 0.059494,
     "end_time": "2022-02-08T16:48:45.243075",
     "exception": false,
     "start_time": "2022-02-08T16:48:45.183581",
     "status": "completed"
    },
    "tags": []
   },
   "outputs": [],
   "source": [
    "reviews[pd.isnull(reviews.country)]\n",
    "reviews[reviews.country.isnull()]"
   ]
  },
  {
   "cell_type": "markdown",
   "id": "e4ccda7c",
   "metadata": {
    "papermill": {
     "duration": 0.014615,
     "end_time": "2022-02-08T16:48:45.272205",
     "exception": false,
     "start_time": "2022-02-08T16:48:45.257590",
     "status": "completed"
    },
    "tags": []
   },
   "source": [
    "Replacing missing values is a common operation.  Pandas provides a really handy method for this problem: `fillna()`. `fillna()` provides a few different strategies for mitigating such data. For example, we can simply replace each `NaN` with an `\"Unknown\"`:"
   ]
  },
  {
   "cell_type": "code",
   "execution_count": null,
   "id": "f14db343",
   "metadata": {
    "execution": {
     "iopub.execute_input": "2022-02-08T16:48:45.316898Z",
     "iopub.status.busy": "2022-02-08T16:48:45.315900Z",
     "iopub.status.idle": "2022-02-08T16:48:45.325321Z",
     "shell.execute_reply": "2022-02-08T16:48:45.324734Z"
    },
    "papermill": {
     "duration": 0.038394,
     "end_time": "2022-02-08T16:48:45.325477",
     "exception": false,
     "start_time": "2022-02-08T16:48:45.287083",
     "status": "completed"
    },
    "tags": []
   },
   "outputs": [],
   "source": [
    "reviews.region_2.fillna(\"Unknown\")"
   ]
  },
  {
   "cell_type": "markdown",
   "id": "bc184733",
   "metadata": {
    "papermill": {
     "duration": 0.014639,
     "end_time": "2022-02-08T16:48:45.355123",
     "exception": false,
     "start_time": "2022-02-08T16:48:45.340484",
     "status": "completed"
    },
    "tags": []
   },
   "source": [
    "Or we could fill each missing value with the first non-null value that appears sometime after the given record in the database. This is known as the backfill strategy."
   ]
  },
  {
   "cell_type": "code",
   "execution_count": null,
   "id": "da4f26b6",
   "metadata": {},
   "outputs": [],
   "source": [
    "reviews.region_2.bfill()"
   ]
  },
  {
   "cell_type": "markdown",
   "id": "a139cd18",
   "metadata": {
    "papermill": {
     "duration": 0.015538,
     "end_time": "2022-02-08T16:48:45.385617",
     "exception": false,
     "start_time": "2022-02-08T16:48:45.370079",
     "status": "completed"
    },
    "tags": []
   },
   "source": [
    "Alternatively, we may have a non-null value that we would like to replace. For example, suppose that since this dataset was published, reviewer Kerin O'Keefe has changed her Twitter handle from `@kerinokeefe` to `@kerino`. One way to reflect this in the dataset is using the `replace()` method:"
   ]
  },
  {
   "cell_type": "code",
   "execution_count": null,
   "id": "4cda3bb2",
   "metadata": {
    "execution": {
     "iopub.execute_input": "2022-02-08T16:48:45.421793Z",
     "iopub.status.busy": "2022-02-08T16:48:45.421063Z",
     "iopub.status.idle": "2022-02-08T16:48:45.434986Z",
     "shell.execute_reply": "2022-02-08T16:48:45.435464Z"
    },
    "papermill": {
     "duration": 0.033601,
     "end_time": "2022-02-08T16:48:45.435645",
     "exception": false,
     "start_time": "2022-02-08T16:48:45.402044",
     "status": "completed"
    },
    "tags": []
   },
   "outputs": [],
   "source": [
    "reviews.taster_twitter_handle.replace(\"@kerinokeefe\", \"@kerino\")"
   ]
  },
  {
   "cell_type": "markdown",
   "id": "4c827dfe",
   "metadata": {
    "papermill": {
     "duration": 0.015248,
     "end_time": "2022-02-08T16:48:45.467017",
     "exception": false,
     "start_time": "2022-02-08T16:48:45.451769",
     "status": "completed"
    },
    "tags": []
   },
   "source": [
    "The `replace()` method is worth mentioning here because it's handy for replacing missing data which is given some kind of sentinel value in the dataset: things like `\"Unknown\"`, `\"Undisclosed\"`, `\"Invalid\"`, and so on.\n",
    "\n",
    "# Your turn\n",
    "\n"
   ]
  }
 ],
 "metadata": {
  "kernelspec": {
   "display_name": "depi_env",
   "language": "python",
   "name": "python3"
  },
  "language_info": {
   "codemirror_mode": {
    "name": "ipython",
    "version": 3
   },
   "file_extension": ".py",
   "mimetype": "text/x-python",
   "name": "python",
   "nbconvert_exporter": "python",
   "pygments_lexer": "ipython3",
   "version": "3.10.16"
  },
  "papermill": {
   "default_parameters": {},
   "duration": 14.258348,
   "end_time": "2022-02-08T16:48:46.123892",
   "environment_variables": {},
   "exception": null,
   "input_path": "__notebook__.ipynb",
   "output_path": "__notebook__.ipynb",
   "parameters": {},
   "start_time": "2022-02-08T16:48:31.865544",
   "version": "2.3.3"
  }
 },
 "nbformat": 4,
 "nbformat_minor": 5
}
