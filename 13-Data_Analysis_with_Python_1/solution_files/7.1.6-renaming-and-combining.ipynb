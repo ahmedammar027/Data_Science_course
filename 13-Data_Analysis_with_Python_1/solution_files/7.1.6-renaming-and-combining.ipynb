{
 "cells": [
  {
   "cell_type": "markdown",
   "id": "289dbd39",
   "metadata": {
    "papermill": {
     "duration": 0.011015,
     "end_time": "2022-02-08T16:45:03.191427",
     "exception": false,
     "start_time": "2022-02-08T16:45:03.180412",
     "status": "completed"
    },
    "tags": []
   },
   "source": [
    "# Introduction\n",
    "\n",
    "Oftentimes data will come to us with column names, index names, or other naming conventions that we are not satisfied with. In that case, you'll learn how to use pandas functions to change the names of the offending entries to something better.\n",
    "\n",
    "You'll also explore how to combine data from multiple DataFrames and/or Series.\n",
    "\n",
    "\n",
    "# Renaming\n",
    "\n",
    "The first function we'll introduce here is `rename()`, which lets you change index names and/or column names. For example, to change the `points` column in our dataset to `score`, we would do:"
   ]
  },
  {
   "cell_type": "code",
   "execution_count": 1,
   "id": "fc8316ec",
   "metadata": {
    "_kg_hide-input": true,
    "papermill": {
     "duration": 2.33979,
     "end_time": "2022-02-08T16:45:05.542627",
     "exception": false,
     "start_time": "2022-02-08T16:45:03.202837",
     "status": "completed"
    },
    "tags": []
   },
   "outputs": [],
   "source": [
    "import pandas as pd\n",
    "reviews = pd.read_csv(\"data\\winemag-data-130k-v2.csv\", index_col=0)"
   ]
  },
  {
   "cell_type": "code",
   "execution_count": null,
   "id": "46021f45-0d1a-4582-8932-06bd486584ad",
   "metadata": {
    "tags": []
   },
   "outputs": [],
   "source": [
    "reviews.head()"
   ]
  },
  {
   "cell_type": "code",
   "execution_count": null,
   "id": "584919f8",
   "metadata": {
    "execution": {
     "iopub.execute_input": "2022-02-08T16:45:05.574801Z",
     "iopub.status.busy": "2022-02-08T16:45:05.573073Z",
     "iopub.status.idle": "2022-02-08T16:45:05.646068Z",
     "shell.execute_reply": "2022-02-08T16:45:05.647027Z"
    },
    "papermill": {
     "duration": 0.092892,
     "end_time": "2022-02-08T16:45:05.647353",
     "exception": false,
     "start_time": "2022-02-08T16:45:05.554461",
     "status": "completed"
    },
    "tags": []
   },
   "outputs": [],
   "source": [
    "reviews.rename(columns={'points': 'score'})"
   ]
  },
  {
   "cell_type": "markdown",
   "id": "8f4663dd",
   "metadata": {
    "papermill": {
     "duration": 0.010078,
     "end_time": "2022-02-08T16:45:05.669405",
     "exception": false,
     "start_time": "2022-02-08T16:45:05.659327",
     "status": "completed"
    },
    "tags": []
   },
   "source": [
    "`rename()` lets you rename index _or_ column values by specifying a `index` or `column` keyword parameter, respectively. It supports a variety of input formats, but usually a Python dictionary is the most convenient. Here is an example using it to rename some elements of the index."
   ]
  },
  {
   "cell_type": "code",
   "execution_count": null,
   "id": "370010e5",
   "metadata": {
    "execution": {
     "iopub.execute_input": "2022-02-08T16:45:05.701134Z",
     "iopub.status.busy": "2022-02-08T16:45:05.699489Z",
     "iopub.status.idle": "2022-02-08T16:45:05.811424Z",
     "shell.execute_reply": "2022-02-08T16:45:05.810750Z"
    },
    "papermill": {
     "duration": 0.131447,
     "end_time": "2022-02-08T16:45:05.811611",
     "exception": false,
     "start_time": "2022-02-08T16:45:05.680164",
     "status": "completed"
    },
    "tags": []
   },
   "outputs": [],
   "source": [
    "reviews.rename(index={0: 'firstEntry', 1: 'secondEntry'})"
   ]
  },
  {
   "cell_type": "markdown",
   "id": "a52c81f2",
   "metadata": {
    "papermill": {
     "duration": 0.011122,
     "end_time": "2022-02-08T16:45:05.835230",
     "exception": false,
     "start_time": "2022-02-08T16:45:05.824108",
     "status": "completed"
    },
    "tags": []
   },
   "source": [
    "You'll probably rename columns very often, but rename index values very rarely.  For that, `set_index()` is usually more convenient.\n",
    "\n",
    "Both the row index and the column index can have their own `name` attribute. The complimentary `rename_axis()` method may be used to change these names. For example:"
   ]
  },
  {
   "cell_type": "code",
   "execution_count": null,
   "id": "28638938",
   "metadata": {
    "execution": {
     "iopub.execute_input": "2022-02-08T16:45:05.866590Z",
     "iopub.status.busy": "2022-02-08T16:45:05.865710Z",
     "iopub.status.idle": "2022-02-08T16:45:05.974970Z",
     "shell.execute_reply": "2022-02-08T16:45:05.974156Z"
    },
    "papermill": {
     "duration": 0.127062,
     "end_time": "2022-02-08T16:45:05.975171",
     "exception": false,
     "start_time": "2022-02-08T16:45:05.848109",
     "status": "completed"
    },
    "tags": []
   },
   "outputs": [],
   "source": [
    "reviews.rename_axis(\"wines\", axis='rows').rename_axis(\"fields\", axis='columns')"
   ]
  },
  {
   "cell_type": "markdown",
   "id": "793df97a",
   "metadata": {
    "papermill": {
     "duration": 0.011786,
     "end_time": "2022-02-08T16:45:05.999252",
     "exception": false,
     "start_time": "2022-02-08T16:45:05.987466",
     "status": "completed"
    },
    "tags": []
   },
   "source": [
    "# Combining\n",
    "\n",
    "When performing operations on a dataset, we will sometimes need to combine different DataFrames and/or Series in non-trivial ways. Pandas has three core methods for doing this. In order of increasing complexity, these are `concat()`, `join()`, and `merge()`. Most of what `merge()` can do can also be done more simply with `join()`, so we will omit it and focus on the first two functions here.\n",
    "\n",
    "The simplest combining method is `concat()`. Given a list of elements, this function will smush those elements together along an axis.\n",
    "\n",
    "This is useful when we have data in different DataFrame or Series objects but having the same fields (columns). One example: the [YouTube Videos dataset](https://www.kaggle.com/datasnaek/youtube-new), which splits the data up based on country of origin (e.g. Canada and the UK, in this example). If we want to study multiple countries simultaneously, we can use `concat()` to smush them together:"
   ]
  },
  {
   "cell_type": "code",
   "execution_count": 6,
   "id": "3e382cc9",
   "metadata": {
    "collapsed": true,
    "execution": {
     "iopub.execute_input": "2022-02-08T16:45:06.031564Z",
     "iopub.status.busy": "2022-02-08T16:45:06.030767Z",
     "iopub.status.idle": "2022-02-08T16:45:10.155031Z",
     "shell.execute_reply": "2022-02-08T16:45:10.154304Z"
    },
    "jupyter": {
     "outputs_hidden": true
    },
    "papermill": {
     "duration": 4.142814,
     "end_time": "2022-02-08T16:45:10.155223",
     "exception": false,
     "start_time": "2022-02-08T16:45:06.012409",
     "status": "completed"
    },
    "tags": []
   },
   "outputs": [],
   "source": [
    "canadian_youtube = pd.read_csv(\"data\\CAvideos.csv\") \n",
    "british_youtube = pd.read_csv(\"data\\GBvideos.csv\") "
   ]
  },
  {
   "cell_type": "code",
   "execution_count": null,
   "id": "97e08652",
   "metadata": {},
   "outputs": [],
   "source": [
    "canadian_youtube.head(1)"
   ]
  },
  {
   "cell_type": "code",
   "execution_count": null,
   "id": "adffa626",
   "metadata": {},
   "outputs": [],
   "source": [
    "british_youtube.head(1)"
   ]
  },
  {
   "cell_type": "code",
   "execution_count": 9,
   "id": "78737f37",
   "metadata": {},
   "outputs": [],
   "source": [
    "df = pd.concat([canadian_youtube, british_youtube])"
   ]
  },
  {
   "cell_type": "code",
   "execution_count": null,
   "id": "16d55587",
   "metadata": {},
   "outputs": [],
   "source": [
    "df"
   ]
  },
  {
   "cell_type": "markdown",
   "id": "f0948dec",
   "metadata": {},
   "source": [
    "The middlemost combiner in terms of complexity is `join()`. `join()` lets you combine different DataFrame objects which have an index in common. For example, to pull down videos that happened to be trending on the same day in both Canada and the UK, we could do the following:"
   ]
  },
  {
   "cell_type": "code",
   "execution_count": null,
   "id": "2255c4fc",
   "metadata": {},
   "outputs": [],
   "source": [
    "left = canadian_youtube.set_index(['title', 'trending_date'])\n",
    "right = british_youtube.set_index(['title', 'trending_date'])\n",
    "\n",
    "left.join(right, lsuffix='_CAN', rsuffix='_UK')"
   ]
  },
  {
   "cell_type": "markdown",
   "id": "1620e702",
   "metadata": {},
   "source": [
    "The lsuffix and rsuffix parameters are necessary here because the data has the same column names in both British and Canadian datasets. If this wasn't true (because, say, we'd renamed them beforehand) we wouldn't need them."
   ]
  },
  {
   "cell_type": "markdown",
   "id": "07127b64",
   "metadata": {},
   "source": [
    "# Your turn"
   ]
  }
 ],
 "metadata": {
  "kernelspec": {
   "display_name": "depi_env",
   "language": "python",
   "name": "python3"
  },
  "language_info": {
   "codemirror_mode": {
    "name": "ipython",
    "version": 3
   },
   "file_extension": ".py",
   "mimetype": "text/x-python",
   "name": "python",
   "nbconvert_exporter": "python",
   "pygments_lexer": "ipython3",
   "version": "3.10.16"
  },
  "papermill": {
   "default_parameters": {},
   "duration": 23.82865,
   "end_time": "2022-02-08T16:45:12.733029",
   "environment_variables": {},
   "exception": null,
   "input_path": "__notebook__.ipynb",
   "output_path": "__notebook__.ipynb",
   "parameters": {},
   "start_time": "2022-02-08T16:44:48.904379",
   "version": "2.3.3"
  }
 },
 "nbformat": 4,
 "nbformat_minor": 5
}
