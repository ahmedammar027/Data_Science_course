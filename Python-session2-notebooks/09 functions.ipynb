{
 "cells": [
  {
   "cell_type": "code",
   "execution_count": 1,
   "metadata": {},
   "outputs": [],
   "source": [
    "def get_f_l_letter(name):\n",
    "    f=name[0]\n",
    "    l=name[-1]\n",
    "    return f,l"
   ]
  },
  {
   "cell_type": "code",
   "execution_count": 3,
   "metadata": {},
   "outputs": [
    {
     "name": "stdout",
     "output_type": "stream",
     "text": [
      "a d\n"
     ]
    }
   ],
   "source": [
    "first_letter ,second_letter= get_f_l_letter(\"ahmed\")\n",
    "print(first_letter ,second_letter)"
   ]
  },
  {
   "cell_type": "code",
   "execution_count": 7,
   "metadata": {},
   "outputs": [
    {
     "data": {
      "text/plain": [
       "78.53981633974483"
      ]
     },
     "execution_count": 7,
     "metadata": {},
     "output_type": "execute_result"
    }
   ],
   "source": [
    "import math\n",
    "r=int(input(\"enter radius\"))\n",
    "def circle_area(r):\n",
    "    return math.pi*r**2\n",
    "circle_area(r)"
   ]
  },
  {
   "cell_type": "code",
   "execution_count": null,
   "metadata": {},
   "outputs": [
    {
     "name": "stdout",
     "output_type": "stream",
     "text": [
      "Hello,Ali ! \n",
      "\n",
      "Hello,samy ! \n",
      "\n",
      "Hello,mahmoud ! \n",
      "\n"
     ]
    }
   ],
   "source": [
    "def quiz(list):\n",
    "    for x in list:\n",
    "        print(f\"Hello,{x} ! \\n\")\n",
    "quiz([\"Ali\",\"samy\",\"mahmoud\"])"
   ]
  },
  {
   "cell_type": "code",
   "execution_count": null,
   "metadata": {},
   "outputs": [],
   "source": []
  }
 ],
 "metadata": {
  "kernelspec": {
   "display_name": "Python 3",
   "language": "python",
   "name": "python3"
  },
  "language_info": {
   "codemirror_mode": {
    "name": "ipython",
    "version": 3
   },
   "file_extension": ".py",
   "mimetype": "text/x-python",
   "name": "python",
   "nbconvert_exporter": "python",
   "pygments_lexer": "ipython3",
   "version": "3.12.7"
  }
 },
 "nbformat": 4,
 "nbformat_minor": 2
}
