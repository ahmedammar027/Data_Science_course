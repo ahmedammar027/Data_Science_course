{
 "cells": [
  {
   "cell_type": "markdown",
   "metadata": {},
   "source": [
    "# Jupyter Notebook Exercise"
   ]
  },
  {
   "cell_type": "markdown",
   "metadata": {},
   "source": [
    "# Section 1: Getting Started with Jupyter Notebooks"
   ]
  },
  {
   "cell_type": "markdown",
   "metadata": {},
   "source": [
    "1. Launch a new Jupyter Notebook in Anaconda Navigator or by running 'jupyter notebook' in the command line."
   ]
  },
  {
   "cell_type": "code",
   "execution_count": null,
   "metadata": {},
   "outputs": [],
   "source": []
  },
  {
   "cell_type": "markdown",
   "metadata": {},
   "source": [
    "2. Create a new cell by pressing B (below) or A (above)"
   ]
  },
  {
   "cell_type": "markdown",
   "metadata": {},
   "source": [
    "3. Change cell type by pressing Y (code) or M (markdown)"
   ]
  },
  {
   "cell_type": "markdown",
   "metadata": {},
   "source": [
    "# Section 2: Markdown Formatting in Jupyter Notebooks"
   ]
  },
  {
   "cell_type": "markdown",
   "metadata": {},
   "source": [
    "**Try the following Markdown formatting examples in Markdown cells:**"
   ]
  },
  {
   "cell_type": "code",
   "execution_count": null,
   "metadata": {},
   "outputs": [],
   "source": [
    "### Basic Formatting\n",
    "# Heading Level 1\n",
    "## Heading Level 2\n",
    "### Heading Level 3\n",
    "\n",
    "**Bold Text**\n",
    "\n",
    "*Italic Text*\n",
    "\n",
    "~~Strikethrough Text~~\n",
    "\n",
    "> Blockquote"
   ]
  },
  {
   "cell_type": "markdown",
   "metadata": {},
   "source": []
  },
  {
   "cell_type": "markdown",
   "metadata": {},
   "source": [
    "<details><summary><h4>Solution of simple formatting</h4></summary>\n",
    "\n",
    "### Basic Formatting\n",
    "# Heading Level 1\n",
    "## Heading Level 2\n",
    "### Heading Level 3\n",
    "\n",
    "**Bold Text**\n",
    "\n",
    "*Italic Text*\n",
    "\n",
    "~~Strikethrough Text~~\n",
    "\n",
    "> Blockquote\n",
    "\n",
    "</details>"
   ]
  },
  {
   "cell_type": "markdown",
   "metadata": {},
   "source": [
    "### Advanced Formatting"
   ]
  },
  {
   "cell_type": "code",
   "execution_count": null,
   "metadata": {},
   "outputs": [],
   "source": [
    "Highlight:\n",
    "<mark>Highlighted Text</mark>\n",
    "\n",
    "Colored Text (HTML):\n",
    "<span style=\"color:blue\">Blue Text</span>\n",
    "\n",
    "Underline Text:\n",
    "<u>Underlined Text</u>\n",
    "\n",
    "Change Font Size:\n",
    "<span style=\"font-size:20px\">Large Text</span>\n"
   ]
  },
  {
   "cell_type": "markdown",
   "metadata": {},
   "source": []
  },
  {
   "cell_type": "markdown",
   "metadata": {},
   "source": [
    "<details><summary><h4>Solution of advanced formatting</h4></summary>\n",
    "\n",
    "Highlight:\n",
    "<mark>Highlighted Text</mark>\n",
    "\n",
    "Colored Text (HTML):\n",
    "<span style=\"color:blue\">Blue Text</span>\n",
    "\n",
    "Underline Text:\n",
    "<u>Underlined Text</u>\n",
    "\n",
    "Change Font Size:\n",
    "<span style=\"font-size:20px\">Large Text</span>\n",
    "\n",
    "</details>"
   ]
  },
  {
   "cell_type": "markdown",
   "metadata": {},
   "source": [
    "### Links and Images"
   ]
  },
  {
   "cell_type": "code",
   "execution_count": null,
   "metadata": {},
   "outputs": [],
   "source": [
    "Add a Link:\n",
    "[Google](https://www.google.com)\n",
    "\n",
    "Add an Image (change URL to your own image link):\n",
    "![Image Description](https://encrypted-tbn0.gstatic.com/images?q=tbn:ANd9GcRoBuMvSuYezLE9rwI-zOJeIOmcIGfDPqOvFA&s)"
   ]
  },
  {
   "cell_type": "markdown",
   "metadata": {},
   "source": []
  },
  {
   "cell_type": "markdown",
   "metadata": {},
   "source": []
  },
  {
   "cell_type": "markdown",
   "metadata": {},
   "source": [
    "<details><summary><h4>Solution of images and links</h4></summary>\n",
    "\n",
    "Add a Link:\n",
    "[Google](https://www.google.com)\n",
    "\n",
    "Add an Image (change URL to your own image link):\n",
    "![Image Description](https://www.example.com/image.jpg)\n",
    "\n",
    "</details>"
   ]
  },
  {
   "cell_type": "markdown",
   "metadata": {},
   "source": [
    "### Lists and Tables"
   ]
  },
  {
   "cell_type": "code",
   "execution_count": null,
   "metadata": {},
   "outputs": [],
   "source": [
    "Ordered List:\n",
    "1. First Item\n",
    "2. Second Item\n",
    "\n",
    "Unordered List:\n",
    "- Bullet Point 1\n",
    "- Bullet Point 2\n",
    "\n",
    "Table:\n",
    "| Header 1 | Header 2 |\n",
    "|----------|----------|\n",
    "| Row 1    | Row 2    |"
   ]
  },
  {
   "cell_type": "markdown",
   "metadata": {},
   "source": []
  },
  {
   "cell_type": "markdown",
   "metadata": {},
   "source": [
    "<details><summary><h4>Solution of lists and tables</h4></summary>\n",
    "\n",
    "Ordered List:\n",
    "1. First Item\n",
    "2. Second Item\n",
    "\n",
    "Unordered List:\n",
    "- Bullet Point 1\n",
    "- Bullet Point 2\n",
    "\n",
    "Table:\n",
    "| Header 1 | Header 2 |\n",
    "|----------|----------|\n",
    "| Row 1    | Row 2    |\n",
    "\n",
    "</details>"
   ]
  },
  {
   "cell_type": "markdown",
   "metadata": {},
   "source": [
    "# Section 3: Conda Environment Management"
   ]
  },
  {
   "cell_type": "markdown",
   "metadata": {},
   "source": [
    "**Here are essential Conda commands to manage environments and packages**"
   ]
  },
  {
   "cell_type": "markdown",
   "metadata": {},
   "source": [
    "### Listing Environments and Packages"
   ]
  },
  {
   "cell_type": "markdown",
   "metadata": {},
   "source": [
    "List all environments:\n",
    "conda env list\n",
    "\n",
    "List all packages in an environment:\n",
    "conda list -n my_env"
   ]
  },
  {
   "cell_type": "code",
   "execution_count": null,
   "metadata": {},
   "outputs": [],
   "source": []
  },
  {
   "cell_type": "code",
   "execution_count": null,
   "metadata": {},
   "outputs": [],
   "source": []
  },
  {
   "cell_type": "markdown",
   "metadata": {},
   "source": [
    "<details><summary><h4>Solution of listing environments and packages</h4></summary>\n",
    "\n",
    "!conda env list\n",
    "\n",
    "!conda list -n tk_env\n",
    "\n",
    "</details>"
   ]
  },
  {
   "cell_type": "markdown",
   "metadata": {},
   "source": [
    "### Creating and Deleting Environments"
   ]
  },
  {
   "cell_type": "markdown",
   "metadata": {},
   "source": [
    "Create a new environment:\n",
    "conda create -n my_env python=3.8\n",
    "\n",
    "Delete an environment:\n",
    "conda remove -n my_env --all"
   ]
  },
  {
   "cell_type": "code",
   "execution_count": null,
   "metadata": {},
   "outputs": [],
   "source": [
    "# Try them in terminal"
   ]
  },
  {
   "cell_type": "markdown",
   "metadata": {},
   "source": [
    "<details><summary><h4>Solution of creating and deleting envs</h4></summary>\n",
    "\n",
    "!conda create -n my_env python=3.8\n",
    "\n",
    "!conda remove -n my_env --all\n",
    "\n",
    "</details>"
   ]
  },
  {
   "cell_type": "markdown",
   "metadata": {},
   "source": [
    "### Activating and Deactivating Environments"
   ]
  },
  {
   "cell_type": "markdown",
   "metadata": {},
   "source": [
    "Activate an environment:\n",
    "conda activate my_env\n",
    "\n",
    "Deactivate an environment:\n",
    "conda deactivate\n"
   ]
  },
  {
   "cell_type": "code",
   "execution_count": null,
   "metadata": {},
   "outputs": [],
   "source": [
    "# Try them in terminal"
   ]
  },
  {
   "cell_type": "markdown",
   "metadata": {},
   "source": [
    "<details><summary><h4>Solution of activating and deactivating envs</h4></summary>\n",
    "\n",
    "!conda activate my_env\n",
    "\n",
    "\n",
    "!conda deactivate\n",
    "\n",
    "\n",
    "</details>"
   ]
  },
  {
   "cell_type": "markdown",
   "metadata": {},
   "source": [
    "### Installing and Uninstalling Packages"
   ]
  },
  {
   "cell_type": "markdown",
   "metadata": {},
   "source": [
    "Install a package using Conda:\n",
    "conda install numpy\n",
    "\n",
    "Uninstall a package using Conda:\n",
    "conda remove numpy\n",
    "\n",
    "Install a package using Pip:\n",
    "pip install pandas\n",
    "\n",
    "Uninstall a package using Pip:\n",
    "pip uninstall pandas\n"
   ]
  },
  {
   "cell_type": "code",
   "execution_count": null,
   "metadata": {},
   "outputs": [],
   "source": [
    "# Try them in terminal"
   ]
  },
  {
   "cell_type": "markdown",
   "metadata": {},
   "source": [
    "<details><summary><h4>Solution of Installing and Uninstalling Packages</h4></summary>\n",
    "\n",
    "!conda install numpy\n",
    "\n",
    "!conda remove numpy\n",
    "\n",
    "!pip install pandas\n",
    "\n",
    "!pip uninstall pandas\n",
    "\n",
    "</details>"
   ]
  },
  {
   "cell_type": "markdown",
   "metadata": {},
   "source": [
    "### Exporting and Creating Environments with YAML"
   ]
  },
  {
   "cell_type": "markdown",
   "metadata": {},
   "source": [
    "Export environment to a YAML file:\n",
    "conda env export -n my_env > environment.yml\n",
    "\n",
    "Create an environment from a YAML file:\n",
    "conda env create -f environment.yml\n"
   ]
  },
  {
   "cell_type": "code",
   "execution_count": null,
   "metadata": {},
   "outputs": [],
   "source": [
    "# Try them in terminal"
   ]
  },
  {
   "cell_type": "code",
   "execution_count": null,
   "metadata": {},
   "outputs": [],
   "source": [
    "# Try them in terminal"
   ]
  },
  {
   "cell_type": "markdown",
   "metadata": {},
   "source": [
    "<details><summary><h4>Solution of Exporting and Creating Environments with YAML</h4></summary>\n",
    "\n",
    "!conda env export -n my_env > environment.yml\n",
    "\n",
    "!conda env create -f environment.yml\n",
    "\n",
    "\n",
    "</details>"
   ]
  },
  {
   "cell_type": "markdown",
   "metadata": {},
   "source": [
    "### Cloning an Environment"
   ]
  },
  {
   "cell_type": "markdown",
   "metadata": {},
   "source": [
    "Clone an environment with a new name:\n",
    "conda create --name new_env --clone my_env"
   ]
  },
  {
   "cell_type": "code",
   "execution_count": null,
   "metadata": {},
   "outputs": [],
   "source": [
    "# Try them in terminal"
   ]
  },
  {
   "cell_type": "markdown",
   "metadata": {},
   "source": [
    "<details><summary><h4>Solution of Cloning an Environment</h4></summary>\n",
    "\n",
    "!conda create --name new_env --clone my_env\n",
    "\n",
    "</details>"
   ]
  },
  {
   "cell_type": "markdown",
   "metadata": {},
   "source": [
    "# Section 4: Essential Skills in Visual Studio Code (VS Code)"
   ]
  },
  {
   "cell_type": "markdown",
   "metadata": {},
   "source": [
    "**Learn to perform common tasks in VS Code:**"
   ]
  },
  {
   "cell_type": "markdown",
   "metadata": {},
   "source": [
    "### Command Palette"
   ]
  },
  {
   "cell_type": "markdown",
   "metadata": {},
   "source": [
    "Open Command Palette:\n",
    "\n",
    "Press Ctrl + Shift + P (or Cmd + Shift + P on Mac) to open the Command Palette."
   ]
  },
  {
   "cell_type": "markdown",
   "metadata": {},
   "source": [
    "### Changing Python Interpreter"
   ]
  },
  {
   "cell_type": "markdown",
   "metadata": {},
   "source": [
    "Change Python Interpreter:\n",
    "- Open the Command Palette and search for \"Python: Select Interpreter\".\n",
    "- Select the desired interpreter for your project.\n"
   ]
  },
  {
   "cell_type": "markdown",
   "metadata": {},
   "source": [
    "### Terminal Profile and Font Settings"
   ]
  },
  {
   "cell_type": "markdown",
   "metadata": {},
   "source": [
    "\n",
    "Change Default Profile for Terminal:\n",
    "- Open Command Palette and search for \"Terminal: Select Default Profile\".\n",
    "- Choose your preferred terminal (e.g., Command Prompt, PowerShell, Bash).\n",
    "\n",
    "Change Font Size:\n",
    "- Go to File > Preferences > Settings (or Cmd + , on Mac).\n",
    "- Search for Editor: Font Size and adjust it to your preference.\n"
   ]
  },
  {
   "cell_type": "markdown",
   "metadata": {},
   "source": [
    "\n",
    "### Additional Skills\n",
    "Enable/Disable Line Numbers:\n",
    "- Open Command Palette, search for \"View: Toggle Line Numbers\", and toggle it on/off.\n",
    "\n",
    "Split Editor:\n",
    "- To open multiple files side-by-side, right-click on the file in the editor tab and select \"Split Right\" or \"Split Down\".\n",
    "\n",
    "Format Code:\n",
    "- Use Shift + Alt + F (or Shift + Option + F on Mac) to format your code based on configured linters and formatters."
   ]
  },
  {
   "cell_type": "markdown",
   "metadata": {},
   "source": [
    "\n",
    "This notebook provides an overview of Jupyter, Markdown, Conda, and VS Code skills. Follow the prompts and commands to practice each tool and enhance your workflow.\n"
   ]
  }
 ],
 "metadata": {
  "kernelspec": {
   "display_name": "base",
   "language": "python",
   "name": "python3"
  },
  "language_info": {
   "codemirror_mode": {
    "name": "ipython",
    "version": 3
   },
   "file_extension": ".py",
   "mimetype": "text/x-python",
   "name": "python",
   "nbconvert_exporter": "python",
   "pygments_lexer": "ipython3",
   "version": "3.10.15"
  }
 },
 "nbformat": 4,
 "nbformat_minor": 2
}
