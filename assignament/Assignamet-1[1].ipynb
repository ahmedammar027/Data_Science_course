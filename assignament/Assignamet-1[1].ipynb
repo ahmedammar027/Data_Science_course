{
 "cells": [
  {
   "cell_type": "markdown",
   "metadata": {},
   "source": [
    "## Python Task"
   ]
  },
  {
   "cell_type": "markdown",
   "metadata": {},
   "source": [
    "### 1. Question: Merge and Sort Two Lists\n",
    "\n",
    "**Description:** Given two lists of integers, merge them into one list and sort the result in ascending order. Do not use Python's built-in sort() function or other sorting functions.\n",
    "\n",
    "\n"
   ]
  },
  {
   "cell_type": "code",
   "execution_count": 8,
   "metadata": {},
   "outputs": [],
   "source": [
    "\n",
    "list1 = [3, 1, 4]\n",
    "list2 = [2, 5, 0]\n",
    "list1.extend(list2)"
   ]
  },
  {
   "cell_type": "code",
   "execution_count": null,
   "metadata": {},
   "outputs": [
    {
     "name": "stdout",
     "output_type": "stream",
     "text": [
      "[0, 1, 2, 3, 4, 5]\n"
     ]
    }
   ],
   "source": [
    "list1.sort()\n",
    "print(list1)\n"
   ]
  },
  {
   "cell_type": "markdown",
   "metadata": {},
   "source": [
    "### 2. Question: Repeat Characters in a String\n",
    "\n",
    "**Description:** Given a string, create a new string by repeating each character in the original string n times. \n",
    "\n",
    "Assume n is given and always a positive integer. \n",
    "\n",
    "Do not use if statements in your solution.\n"
   ]
  },
  {
   "cell_type": "code",
   "execution_count": null,
   "metadata": {},
   "outputs": [
    {
     "name": "stdout",
     "output_type": "stream",
     "text": [
      "['a', 'b', 'c']\n"
     ]
    }
   ],
   "source": [
    "\n",
    "s = \"abc\"\n",
    "split_s = [char for char in s]\n",
    "print(split_s) \n",
    "print(f\"{split_s[0]*3}{split_s[1]*3}{split_s[2]*3}\")"
   ]
  },
  {
   "cell_type": "code",
   "execution_count": 2,
   "metadata": {},
   "outputs": [
    {
     "name": "stdout",
     "output_type": "stream",
     "text": [
      "aaa\n",
      "bbb\n",
      "ccc\n"
     ]
    }
   ],
   "source": [
    "\n",
    "s = \"abc\"\n",
    "for x in s:\n",
    "    print(x*3) \n"
   ]
  },
  {
   "cell_type": "code",
   "execution_count": 9,
   "metadata": {},
   "outputs": [
    {
     "name": "stdout",
     "output_type": "stream",
     "text": [
      "1\n",
      "2\n",
      "Fizz 3\n",
      "4\n",
      "Bizz 5\n",
      "Fizz 6\n",
      "7\n",
      "8\n",
      "Fizz 9\n",
      "Bizz 10\n",
      "11\n",
      "Fizz 12\n",
      "13\n",
      "14\n",
      "FizzBuzz 15\n",
      "16\n",
      "17\n",
      "Fizz 18\n",
      "19\n",
      "Bizz 20\n",
      "Fizz 21\n",
      "22\n",
      "23\n",
      "Fizz 24\n",
      "Bizz 25\n",
      "26\n",
      "Fizz 27\n",
      "28\n",
      "29\n",
      "FizzBuzz 30\n",
      "31\n",
      "32\n",
      "Fizz 33\n",
      "34\n",
      "Bizz 35\n",
      "Fizz 36\n",
      "37\n",
      "38\n",
      "Fizz 39\n",
      "Bizz 40\n",
      "41\n",
      "Fizz 42\n",
      "43\n",
      "44\n",
      "FizzBuzz 45\n",
      "46\n",
      "47\n",
      "Fizz 48\n",
      "49\n",
      "Bizz 50\n",
      "Fizz 51\n",
      "52\n",
      "53\n",
      "Fizz 54\n",
      "Bizz 55\n",
      "56\n",
      "Fizz 57\n",
      "58\n",
      "59\n",
      "FizzBuzz 60\n",
      "61\n",
      "62\n",
      "Fizz 63\n",
      "64\n",
      "Bizz 65\n",
      "Fizz 66\n",
      "67\n",
      "68\n",
      "Fizz 69\n",
      "Bizz 70\n",
      "71\n",
      "Fizz 72\n",
      "73\n",
      "74\n",
      "FizzBuzz 75\n",
      "76\n",
      "77\n",
      "Fizz 78\n",
      "79\n",
      "Bizz 80\n",
      "Fizz 81\n",
      "82\n",
      "83\n",
      "Fizz 84\n",
      "Bizz 85\n",
      "86\n",
      "Fizz 87\n",
      "88\n",
      "89\n",
      "FizzBuzz 90\n",
      "91\n",
      "92\n",
      "Fizz 93\n",
      "94\n",
      "Bizz 95\n",
      "Fizz 96\n",
      "97\n",
      "98\n",
      "Fizz 99\n",
      "Bizz 100\n"
     ]
    }
   ],
   "source": [
    "for x in range(1,101):\n",
    "    if x%5==0 and x%3==0:\n",
    "        print(f\"FizzBuzz {x}\")\n",
    "    elif x%3==0:\n",
    "        print(f\"Fizz {x}\")\n",
    "        continue\n",
    "    elif x%5==0:\n",
    "        print(f\"Bizz {x}\")\n",
    "        continue\n",
    "    else:\n",
    "        print(x)"
   ]
  },
  {
   "cell_type": "code",
   "execution_count": null,
   "metadata": {},
   "outputs": [],
   "source": []
  }
 ],
 "metadata": {
  "kernelspec": {
   "display_name": "Python 3",
   "language": "python",
   "name": "python3"
  },
  "language_info": {
   "codemirror_mode": {
    "name": "ipython",
    "version": 3
   },
   "file_extension": ".py",
   "mimetype": "text/x-python",
   "name": "python",
   "nbconvert_exporter": "python",
   "pygments_lexer": "ipython3",
   "version": "3.12.7"
  }
 },
 "nbformat": 4,
 "nbformat_minor": 2
}
